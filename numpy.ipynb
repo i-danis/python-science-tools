{
 "cells": [
  {
   "cell_type": "code",
   "execution_count": 44,
   "metadata": {
    "collapsed": true
   },
   "outputs": [],
   "source": [
    "import os\n",
    "import numpy as np\n",
    "import matplotlib.pyplot as plt"
   ]
  },
  {
   "cell_type": "code",
   "execution_count": 45,
   "outputs": [
    {
     "data": {
      "text/plain": "'1.23.5'"
     },
     "execution_count": 45,
     "metadata": {},
     "output_type": "execute_result"
    }
   ],
   "source": [
    "np.__version__"
   ],
   "metadata": {
    "collapsed": false
   }
  },
  {
   "cell_type": "markdown",
   "source": [
    "# Ndarray Object\n",
    "The most important object defined in NumPy is an N-dimensional array type called **ndarray**. It describes the collection of the same type. Items in the collection can be accessed using a zero-based index.\n",
    "\n",
    "Every item in a ndarray takes the same size of block in the memory. Each element in ndarray is an object of data-type object."
   ],
   "metadata": {
    "collapsed": false
   }
  },
  {
   "cell_type": "code",
   "execution_count": 46,
   "outputs": [],
   "source": [
    "def about_array(arr):\n",
    "    print(arr)\n",
    "    print('size of the array:', arr.shape)\n",
    "    print('type of the elements:', arr.dtype)\n",
    "    print('number of dimensions:', arr.ndim)\n",
    "    print('total number of elements:', arr.size)\n",
    "    print('the size in bytes of each element:', arr.itemsize)\n",
    "    print('the size of the whole array:', f\"{arr.size * arr.itemsize} bytes\", '\\n')"
   ],
   "metadata": {
    "collapsed": false
   }
  },
  {
   "cell_type": "code",
   "execution_count": 47,
   "outputs": [
    {
     "name": "stdout",
     "output_type": "stream",
     "text": [
      "[1 2 3 4 5]\n",
      "size of the array: (5,)\n",
      "type of the elements: int64\n",
      "number of dimensions: 1\n",
      "total number of elements: 5\n",
      "the size in bytes of each element: 8\n",
      "the size of the whole array: 40 bytes \n",
      "\n",
      "[[ 1  2  3  4]\n",
      " [ 5  6  7  8]\n",
      " [ 9 10 11 12]]\n",
      "size of the array: (3, 4)\n",
      "type of the elements: int64\n",
      "number of dimensions: 2\n",
      "total number of elements: 12\n",
      "the size in bytes of each element: 8\n",
      "the size of the whole array: 96 bytes \n",
      "\n"
     ]
    }
   ],
   "source": [
    "a = np.array([1, 2, 3, 4, 5])\n",
    "about_array(a)\n",
    "\n",
    "b = np.array([\n",
    "    [1, 2, 3, 4],\n",
    "    [5, 6, 7, 8],\n",
    "    [9, 10, 11, 12],\n",
    "])\n",
    "about_array(b)"
   ],
   "metadata": {
    "collapsed": false
   }
  },
  {
   "cell_type": "markdown",
   "source": [
    "Find max and min values in array:"
   ],
   "metadata": {
    "collapsed": false
   }
  },
  {
   "cell_type": "code",
   "execution_count": 67,
   "outputs": [
    {
     "name": "stdout",
     "output_type": "stream",
     "text": [
      "[[ 0  1  2  3  4]\n",
      " [ 5  6  7  8  9]\n",
      " [10 11 12 13 14]]\n",
      "14\n",
      "0\n"
     ]
    }
   ],
   "source": [
    "print(a)\n",
    "print(np.max(a))\n",
    "print(np.min(a))"
   ],
   "metadata": {
    "collapsed": false
   }
  },
  {
   "cell_type": "code",
   "execution_count": 69,
   "outputs": [
    {
     "name": "stdout",
     "output_type": "stream",
     "text": [
      "[[ 1  2  3  4]\n",
      " [ 5  6  7  8]\n",
      " [ 9 10 11 12]]\n",
      "12\n",
      "[ 9 10 11 12]\n",
      "[ 4  8 12]\n",
      "1\n",
      "[1 2 3 4]\n",
      "[1 5 9]\n"
     ]
    }
   ],
   "source": [
    "print(b)\n",
    "print(np.max(b))\n",
    "print(np.max(b, axis=0))\n",
    "print(np.max(b, axis=1))\n",
    "print(np.min(b))\n",
    "print(np.min(b, axis=0))\n",
    "print(np.min(b, axis=1))"
   ],
   "metadata": {
    "collapsed": false
   }
  },
  {
   "cell_type": "markdown",
   "source": [
    "# Creating arrays\n",
    "there are 6 general ways for creating arrays:\n",
    "1. Conversion from other Python structures\n",
    "2. Intrinsic NumPy array creation functions (arange, ones, zeros, etc.)\n",
    "3. Replicating, joining, or mutating existing arrays\n",
    "4. Reading arrays from disk\n",
    "5. Creating arrays from row bytes\n",
    "6. Use of special library functions (random)"
   ],
   "metadata": {
    "collapsed": false
   }
  },
  {
   "cell_type": "markdown",
   "source": [
    "create 1-dimensional array:"
   ],
   "metadata": {
    "collapsed": false
   }
  },
  {
   "cell_type": "code",
   "execution_count": 70,
   "outputs": [
    {
     "name": "stdout",
     "output_type": "stream",
     "text": [
      "[0 1 2 3 4 5 6 7 8 9]\n",
      "size of the array: (10,)\n",
      "type of the elements: int64\n",
      "number of dimensions: 1\n",
      "total number of elements: 10\n",
      "the size in bytes of each element: 8\n",
      "the size of the whole array: 80 bytes \n",
      "\n"
     ]
    }
   ],
   "source": [
    "a = np.arange(10)\n",
    "about_array(a)"
   ],
   "metadata": {
    "collapsed": false
   }
  },
  {
   "cell_type": "markdown",
   "source": [
    "create 2-dimensional array:"
   ],
   "metadata": {
    "collapsed": false
   }
  },
  {
   "cell_type": "code",
   "execution_count": 71,
   "outputs": [
    {
     "name": "stdout",
     "output_type": "stream",
     "text": [
      "[[ 0  1  2  3  4]\n",
      " [ 5  6  7  8  9]\n",
      " [10 11 12 13 14]]\n",
      "size of the array: (3, 5)\n",
      "type of the elements: int64\n",
      "number of dimensions: 2\n",
      "total number of elements: 15\n",
      "the size in bytes of each element: 8\n",
      "the size of the whole array: 120 bytes \n",
      "\n"
     ]
    }
   ],
   "source": [
    "a = np.arange(15).reshape((3, 5))\n",
    "about_array(a)"
   ],
   "metadata": {
    "collapsed": false
   }
  },
  {
   "cell_type": "markdown",
   "source": [
    "create 3-dimensional array with zeros:"
   ],
   "metadata": {
    "collapsed": false
   }
  },
  {
   "cell_type": "code",
   "execution_count": 72,
   "outputs": [
    {
     "name": "stdout",
     "output_type": "stream",
     "text": [
      "[[[0 0 0 0 0]\n",
      "  [0 0 0 0 0]\n",
      "  [0 0 0 0 0]\n",
      "  [0 0 0 0 0]]\n",
      "\n",
      " [[0 0 0 0 0]\n",
      "  [0 0 0 0 0]\n",
      "  [0 0 0 0 0]\n",
      "  [0 0 0 0 0]]\n",
      "\n",
      " [[0 0 0 0 0]\n",
      "  [0 0 0 0 0]\n",
      "  [0 0 0 0 0]\n",
      "  [0 0 0 0 0]]]\n",
      "size of the array: (3, 4, 5)\n",
      "type of the elements: int16\n",
      "number of dimensions: 3\n",
      "total number of elements: 60\n",
      "the size in bytes of each element: 2\n",
      "the size of the whole array: 120 bytes \n",
      "\n"
     ]
    }
   ],
   "source": [
    "a = np.zeros((3, 4, 5), dtype=np.int16)\n",
    "about_array(a)"
   ],
   "metadata": {
    "collapsed": false
   }
  },
  {
   "cell_type": "markdown",
   "source": [
    "create 3-dimensional array with ones:"
   ],
   "metadata": {
    "collapsed": false
   }
  },
  {
   "cell_type": "code",
   "execution_count": 73,
   "outputs": [
    {
     "name": "stdout",
     "output_type": "stream",
     "text": [
      "[[[1 1 1 1 1]\n",
      "  [1 1 1 1 1]\n",
      "  [1 1 1 1 1]\n",
      "  [1 1 1 1 1]]\n",
      "\n",
      " [[1 1 1 1 1]\n",
      "  [1 1 1 1 1]\n",
      "  [1 1 1 1 1]\n",
      "  [1 1 1 1 1]]\n",
      "\n",
      " [[1 1 1 1 1]\n",
      "  [1 1 1 1 1]\n",
      "  [1 1 1 1 1]\n",
      "  [1 1 1 1 1]]]\n",
      "size of the array: (3, 4, 5)\n",
      "type of the elements: int16\n",
      "number of dimensions: 3\n",
      "total number of elements: 60\n",
      "the size in bytes of each element: 2\n",
      "the size of the whole array: 120 bytes \n",
      "\n"
     ]
    }
   ],
   "source": [
    "a = np.ones((3, 4, 5), dtype=np.int16)\n",
    "about_array(a)"
   ],
   "metadata": {
    "collapsed": false
   }
  },
  {
   "cell_type": "markdown",
   "source": [
    "create empty array:"
   ],
   "metadata": {
    "collapsed": false
   }
  },
  {
   "cell_type": "code",
   "execution_count": 74,
   "outputs": [
    {
     "name": "stdout",
     "output_type": "stream",
     "text": [
      "[[2.56049066e-316 0.00000000e+000 0.00000000e+000]\n",
      " [0.00000000e+000 0.00000000e+000 0.00000000e+000]]\n",
      "size of the array: (2, 3)\n",
      "type of the elements: float64\n",
      "number of dimensions: 2\n",
      "total number of elements: 6\n",
      "the size in bytes of each element: 8\n",
      "the size of the whole array: 48 bytes \n",
      "\n"
     ]
    }
   ],
   "source": [
    "a = np.empty((2, 3))\n",
    "about_array(a)"
   ],
   "metadata": {
    "collapsed": false
   }
  },
  {
   "cell_type": "markdown",
   "source": [
    "create an array of length 10 with values evenly distributed between 5 and 50:"
   ],
   "metadata": {
    "collapsed": false
   }
  },
  {
   "cell_type": "code",
   "execution_count": 55,
   "outputs": [
    {
     "name": "stdout",
     "output_type": "stream",
     "text": [
      "[ 5. 10. 15. 20. 25. 30. 35. 40. 45. 50.]\n",
      "size of the array: (10,)\n",
      "type of the elements: float64\n",
      "number of dimensions: 1\n",
      "total number of elements: 10\n",
      "the size in bytes of each element: 8\n",
      "the size of the whole array: 80 bytes \n",
      "\n"
     ]
    }
   ],
   "source": [
    "a = np.linspace(5, 50, 10)\n",
    "about_array(a)"
   ],
   "metadata": {
    "collapsed": false
   }
  },
  {
   "cell_type": "markdown",
   "source": [
    "create an array of 10 fives:"
   ],
   "metadata": {
    "collapsed": false
   }
  },
  {
   "cell_type": "code",
   "execution_count": 56,
   "outputs": [
    {
     "name": "stdout",
     "output_type": "stream",
     "text": [
      "[5 5 5 5 5 5 5 5 5 5]\n",
      "size of the array: (10,)\n",
      "type of the elements: int64\n",
      "number of dimensions: 1\n",
      "total number of elements: 10\n",
      "the size in bytes of each element: 8\n",
      "the size of the whole array: 80 bytes \n",
      "\n"
     ]
    }
   ],
   "source": [
    "a = np.ones(10, dtype=np.int64) * 5\n",
    "about_array(a)"
   ],
   "metadata": {
    "collapsed": false
   }
  },
  {
   "cell_type": "code",
   "execution_count": 114,
   "outputs": [
    {
     "name": "stdout",
     "output_type": "stream",
     "text": [
      "[[5 5 5]\n",
      " [5 5 5]]\n",
      "size of the array: (2, 3)\n",
      "type of the elements: int64\n",
      "number of dimensions: 2\n",
      "total number of elements: 6\n",
      "the size in bytes of each element: 8\n",
      "the size of the whole array: 48 bytes \n",
      "\n"
     ]
    }
   ],
   "source": [
    "a = np.full((2, 3), 5)\n",
    "about_array(a)"
   ],
   "metadata": {
    "collapsed": false
   }
  },
  {
   "cell_type": "markdown",
   "source": [
    "create an array of all the even integers from 10 to 100:"
   ],
   "metadata": {
    "collapsed": false
   }
  },
  {
   "cell_type": "code",
   "execution_count": 57,
   "outputs": [
    {
     "name": "stdout",
     "output_type": "stream",
     "text": [
      "[ 10  12  14  16  18  20  22  24  26  28  30  32  34  36  38  40  42  44\n",
      "  46  48  50  52  54  56  58  60  62  64  66  68  70  72  74  76  78  80\n",
      "  82  84  86  88  90  92  94  96  98 100]\n",
      "size of the array: (46,)\n",
      "type of the elements: int64\n",
      "number of dimensions: 1\n",
      "total number of elements: 46\n",
      "the size in bytes of each element: 8\n",
      "the size of the whole array: 368 bytes \n",
      "\n"
     ]
    }
   ],
   "source": [
    "a = np.arange(10, 101, 2)\n",
    "about_array(a)"
   ],
   "metadata": {
    "collapsed": false
   }
  },
  {
   "cell_type": "markdown",
   "source": [
    "create a Vandermode matrix:"
   ],
   "metadata": {
    "collapsed": false
   }
  },
  {
   "cell_type": "code",
   "execution_count": 60,
   "outputs": [
    {
     "name": "stdout",
     "output_type": "stream",
     "text": [
      "[[   1    2    4    8]\n",
      " [   1    5   25  125]\n",
      " [   1    9   81  729]\n",
      " [   1   13  169 2197]]\n",
      "size of the array: (4, 4)\n",
      "type of the elements: int64\n",
      "number of dimensions: 2\n",
      "total number of elements: 16\n",
      "the size in bytes of each element: 8\n",
      "the size of the whole array: 128 bytes \n",
      "\n"
     ]
    }
   ],
   "source": [
    "x = np.array([2, 5, 9, 13])\n",
    "a = np.vander(x, increasing=True)\n",
    "about_array(a)"
   ],
   "metadata": {
    "collapsed": false
   }
  },
  {
   "cell_type": "markdown",
   "source": [
    "# Data Types\n",
    "the most common data types in NumPy:\n",
    "- int8\n",
    "- int16\n",
    "- int32\n",
    "- int64\n",
    "- float16\n",
    "- float32\n",
    "- float64\n",
    "- complex64\n",
    "- complex128"
   ],
   "metadata": {
    "collapsed": false
   }
  },
  {
   "cell_type": "markdown",
   "source": [
    "# Indexing"
   ],
   "metadata": {
    "collapsed": false
   }
  },
  {
   "cell_type": "code",
   "execution_count": 92,
   "outputs": [
    {
     "name": "stdout",
     "output_type": "stream",
     "text": [
      "[[1 2 6]\n",
      " [3 4 8]]\n",
      "(2, 3)\n",
      "[1 2 6]\n",
      "[1 3]\n",
      "[1 2 6]\n"
     ]
    }
   ],
   "source": [
    "a = np.array([[1, 2, 6], [3, 4, 8]])\n",
    "print(a)\n",
    "print(a.shape)\n",
    "\n",
    "print(a[0])\n",
    "print(a[:, 0])\n",
    "print(a[0, :])"
   ],
   "metadata": {
    "collapsed": false
   }
  },
  {
   "cell_type": "code",
   "execution_count": 99,
   "outputs": [
    {
     "name": "stdout",
     "output_type": "stream",
     "text": [
      "[10 19 30 41 50 61]\n",
      "[19 41 61]\n",
      "[10 30 50]\n"
     ]
    }
   ],
   "source": [
    "a = np.array([10, 19, 30, 41, 50, 61])\n",
    "print(a)\n",
    "\n",
    "b = [1, 3, 5]\n",
    "print(a[b])\n",
    "\n",
    "even = np.argwhere(a%2==0).flatten()\n",
    "print(a[even])"
   ],
   "metadata": {
    "collapsed": false
   }
  },
  {
   "cell_type": "code",
   "execution_count": 61,
   "outputs": [],
   "source": [
    "x = np.linspace(0, 2 * np.pi, 10)"
   ],
   "metadata": {
    "collapsed": false
   }
  },
  {
   "cell_type": "code",
   "execution_count": 62,
   "outputs": [],
   "source": [
    "f = np.sin(x)"
   ],
   "metadata": {
    "collapsed": false
   }
  },
  {
   "cell_type": "code",
   "execution_count": 63,
   "outputs": [
    {
     "data": {
      "text/plain": "array([ 0.00000000e+00,  6.42787610e-01,  9.84807753e-01,  8.66025404e-01,\n        3.42020143e-01, -3.42020143e-01, -8.66025404e-01, -9.84807753e-01,\n       -6.42787610e-01, -2.44929360e-16])"
     },
     "execution_count": 63,
     "metadata": {},
     "output_type": "execute_result"
    }
   ],
   "source": [
    "f"
   ],
   "metadata": {
    "collapsed": false
   }
  },
  {
   "cell_type": "code",
   "execution_count": 49,
   "outputs": [
    {
     "data": {
      "text/plain": "array([[ 0,  1,  2,  3,  4],\n       [ 5,  6,  7,  8,  9],\n       [10, 11, 12, 13, 14]])"
     },
     "execution_count": 49,
     "metadata": {},
     "output_type": "execute_result"
    }
   ],
   "source": [
    "a"
   ],
   "metadata": {
    "collapsed": false
   }
  },
  {
   "cell_type": "code",
   "execution_count": 50,
   "outputs": [
    {
     "name": "stdout",
     "output_type": "stream",
     "text": [
      "[[ 0  1  2  3  4]\n",
      " [ 5  6  7  8  9]\n",
      " [10 11 12 13 14]]\n"
     ]
    }
   ],
   "source": [
    "print(a)"
   ],
   "metadata": {
    "collapsed": false
   }
  },
  {
   "cell_type": "code",
   "execution_count": 64,
   "outputs": [],
   "source": [
    "c = np.arange(60).reshape((3, 4, 5))"
   ],
   "metadata": {
    "collapsed": false
   }
  },
  {
   "cell_type": "code",
   "execution_count": 65,
   "outputs": [
    {
     "name": "stdout",
     "output_type": "stream",
     "text": [
      "[[[ 0  1  2  3  4]\n",
      "  [ 5  6  7  8  9]\n",
      "  [10 11 12 13 14]\n",
      "  [15 16 17 18 19]]\n",
      "\n",
      " [[20 21 22 23 24]\n",
      "  [25 26 27 28 29]\n",
      "  [30 31 32 33 34]\n",
      "  [35 36 37 38 39]]\n",
      "\n",
      " [[40 41 42 43 44]\n",
      "  [45 46 47 48 49]\n",
      "  [50 51 52 53 54]\n",
      "  [55 56 57 58 59]]]\n"
     ]
    }
   ],
   "source": [
    "print(c)"
   ],
   "metadata": {
    "collapsed": false
   }
  },
  {
   "cell_type": "code",
   "execution_count": 57,
   "outputs": [
    {
     "name": "stdout",
     "output_type": "stream",
     "text": [
      "[   0    1    2 ... 9997 9998 9999]\n"
     ]
    }
   ],
   "source": [
    "print(np.arange(10_000))"
   ],
   "metadata": {
    "collapsed": false
   }
  },
  {
   "cell_type": "code",
   "execution_count": 58,
   "outputs": [
    {
     "name": "stdout",
     "output_type": "stream",
     "text": [
      "[[   0    1    2 ...   97   98   99]\n",
      " [ 100  101  102 ...  197  198  199]\n",
      " [ 200  201  202 ...  297  298  299]\n",
      " ...\n",
      " [9700 9701 9702 ... 9797 9798 9799]\n",
      " [9800 9801 9802 ... 9897 9898 9899]\n",
      " [9900 9901 9902 ... 9997 9998 9999]]\n"
     ]
    }
   ],
   "source": [
    "print(np.arange(10_000).reshape((100, 100)))"
   ],
   "metadata": {
    "collapsed": false
   }
  },
  {
   "cell_type": "code",
   "execution_count": 59,
   "outputs": [
    {
     "name": "stdout",
     "output_type": "stream",
     "text": [
      "[[[[   0    1    2 ...    7    8    9]\n",
      "   [  10   11   12 ...   17   18   19]\n",
      "   [  20   21   22 ...   27   28   29]\n",
      "   ...\n",
      "   [  70   71   72 ...   77   78   79]\n",
      "   [  80   81   82 ...   87   88   89]\n",
      "   [  90   91   92 ...   97   98   99]]\n",
      "\n",
      "  [[ 100  101  102 ...  107  108  109]\n",
      "   [ 110  111  112 ...  117  118  119]\n",
      "   [ 120  121  122 ...  127  128  129]\n",
      "   ...\n",
      "   [ 170  171  172 ...  177  178  179]\n",
      "   [ 180  181  182 ...  187  188  189]\n",
      "   [ 190  191  192 ...  197  198  199]]\n",
      "\n",
      "  [[ 200  201  202 ...  207  208  209]\n",
      "   [ 210  211  212 ...  217  218  219]\n",
      "   [ 220  221  222 ...  227  228  229]\n",
      "   ...\n",
      "   [ 270  271  272 ...  277  278  279]\n",
      "   [ 280  281  282 ...  287  288  289]\n",
      "   [ 290  291  292 ...  297  298  299]]\n",
      "\n",
      "  ...\n",
      "\n",
      "  [[ 700  701  702 ...  707  708  709]\n",
      "   [ 710  711  712 ...  717  718  719]\n",
      "   [ 720  721  722 ...  727  728  729]\n",
      "   ...\n",
      "   [ 770  771  772 ...  777  778  779]\n",
      "   [ 780  781  782 ...  787  788  789]\n",
      "   [ 790  791  792 ...  797  798  799]]\n",
      "\n",
      "  [[ 800  801  802 ...  807  808  809]\n",
      "   [ 810  811  812 ...  817  818  819]\n",
      "   [ 820  821  822 ...  827  828  829]\n",
      "   ...\n",
      "   [ 870  871  872 ...  877  878  879]\n",
      "   [ 880  881  882 ...  887  888  889]\n",
      "   [ 890  891  892 ...  897  898  899]]\n",
      "\n",
      "  [[ 900  901  902 ...  907  908  909]\n",
      "   [ 910  911  912 ...  917  918  919]\n",
      "   [ 920  921  922 ...  927  928  929]\n",
      "   ...\n",
      "   [ 970  971  972 ...  977  978  979]\n",
      "   [ 980  981  982 ...  987  988  989]\n",
      "   [ 990  991  992 ...  997  998  999]]]\n",
      "\n",
      "\n",
      " [[[1000 1001 1002 ... 1007 1008 1009]\n",
      "   [1010 1011 1012 ... 1017 1018 1019]\n",
      "   [1020 1021 1022 ... 1027 1028 1029]\n",
      "   ...\n",
      "   [1070 1071 1072 ... 1077 1078 1079]\n",
      "   [1080 1081 1082 ... 1087 1088 1089]\n",
      "   [1090 1091 1092 ... 1097 1098 1099]]\n",
      "\n",
      "  [[1100 1101 1102 ... 1107 1108 1109]\n",
      "   [1110 1111 1112 ... 1117 1118 1119]\n",
      "   [1120 1121 1122 ... 1127 1128 1129]\n",
      "   ...\n",
      "   [1170 1171 1172 ... 1177 1178 1179]\n",
      "   [1180 1181 1182 ... 1187 1188 1189]\n",
      "   [1190 1191 1192 ... 1197 1198 1199]]\n",
      "\n",
      "  [[1200 1201 1202 ... 1207 1208 1209]\n",
      "   [1210 1211 1212 ... 1217 1218 1219]\n",
      "   [1220 1221 1222 ... 1227 1228 1229]\n",
      "   ...\n",
      "   [1270 1271 1272 ... 1277 1278 1279]\n",
      "   [1280 1281 1282 ... 1287 1288 1289]\n",
      "   [1290 1291 1292 ... 1297 1298 1299]]\n",
      "\n",
      "  ...\n",
      "\n",
      "  [[1700 1701 1702 ... 1707 1708 1709]\n",
      "   [1710 1711 1712 ... 1717 1718 1719]\n",
      "   [1720 1721 1722 ... 1727 1728 1729]\n",
      "   ...\n",
      "   [1770 1771 1772 ... 1777 1778 1779]\n",
      "   [1780 1781 1782 ... 1787 1788 1789]\n",
      "   [1790 1791 1792 ... 1797 1798 1799]]\n",
      "\n",
      "  [[1800 1801 1802 ... 1807 1808 1809]\n",
      "   [1810 1811 1812 ... 1817 1818 1819]\n",
      "   [1820 1821 1822 ... 1827 1828 1829]\n",
      "   ...\n",
      "   [1870 1871 1872 ... 1877 1878 1879]\n",
      "   [1880 1881 1882 ... 1887 1888 1889]\n",
      "   [1890 1891 1892 ... 1897 1898 1899]]\n",
      "\n",
      "  [[1900 1901 1902 ... 1907 1908 1909]\n",
      "   [1910 1911 1912 ... 1917 1918 1919]\n",
      "   [1920 1921 1922 ... 1927 1928 1929]\n",
      "   ...\n",
      "   [1970 1971 1972 ... 1977 1978 1979]\n",
      "   [1980 1981 1982 ... 1987 1988 1989]\n",
      "   [1990 1991 1992 ... 1997 1998 1999]]]\n",
      "\n",
      "\n",
      " [[[2000 2001 2002 ... 2007 2008 2009]\n",
      "   [2010 2011 2012 ... 2017 2018 2019]\n",
      "   [2020 2021 2022 ... 2027 2028 2029]\n",
      "   ...\n",
      "   [2070 2071 2072 ... 2077 2078 2079]\n",
      "   [2080 2081 2082 ... 2087 2088 2089]\n",
      "   [2090 2091 2092 ... 2097 2098 2099]]\n",
      "\n",
      "  [[2100 2101 2102 ... 2107 2108 2109]\n",
      "   [2110 2111 2112 ... 2117 2118 2119]\n",
      "   [2120 2121 2122 ... 2127 2128 2129]\n",
      "   ...\n",
      "   [2170 2171 2172 ... 2177 2178 2179]\n",
      "   [2180 2181 2182 ... 2187 2188 2189]\n",
      "   [2190 2191 2192 ... 2197 2198 2199]]\n",
      "\n",
      "  [[2200 2201 2202 ... 2207 2208 2209]\n",
      "   [2210 2211 2212 ... 2217 2218 2219]\n",
      "   [2220 2221 2222 ... 2227 2228 2229]\n",
      "   ...\n",
      "   [2270 2271 2272 ... 2277 2278 2279]\n",
      "   [2280 2281 2282 ... 2287 2288 2289]\n",
      "   [2290 2291 2292 ... 2297 2298 2299]]\n",
      "\n",
      "  ...\n",
      "\n",
      "  [[2700 2701 2702 ... 2707 2708 2709]\n",
      "   [2710 2711 2712 ... 2717 2718 2719]\n",
      "   [2720 2721 2722 ... 2727 2728 2729]\n",
      "   ...\n",
      "   [2770 2771 2772 ... 2777 2778 2779]\n",
      "   [2780 2781 2782 ... 2787 2788 2789]\n",
      "   [2790 2791 2792 ... 2797 2798 2799]]\n",
      "\n",
      "  [[2800 2801 2802 ... 2807 2808 2809]\n",
      "   [2810 2811 2812 ... 2817 2818 2819]\n",
      "   [2820 2821 2822 ... 2827 2828 2829]\n",
      "   ...\n",
      "   [2870 2871 2872 ... 2877 2878 2879]\n",
      "   [2880 2881 2882 ... 2887 2888 2889]\n",
      "   [2890 2891 2892 ... 2897 2898 2899]]\n",
      "\n",
      "  [[2900 2901 2902 ... 2907 2908 2909]\n",
      "   [2910 2911 2912 ... 2917 2918 2919]\n",
      "   [2920 2921 2922 ... 2927 2928 2929]\n",
      "   ...\n",
      "   [2970 2971 2972 ... 2977 2978 2979]\n",
      "   [2980 2981 2982 ... 2987 2988 2989]\n",
      "   [2990 2991 2992 ... 2997 2998 2999]]]\n",
      "\n",
      "\n",
      " ...\n",
      "\n",
      "\n",
      " [[[7000 7001 7002 ... 7007 7008 7009]\n",
      "   [7010 7011 7012 ... 7017 7018 7019]\n",
      "   [7020 7021 7022 ... 7027 7028 7029]\n",
      "   ...\n",
      "   [7070 7071 7072 ... 7077 7078 7079]\n",
      "   [7080 7081 7082 ... 7087 7088 7089]\n",
      "   [7090 7091 7092 ... 7097 7098 7099]]\n",
      "\n",
      "  [[7100 7101 7102 ... 7107 7108 7109]\n",
      "   [7110 7111 7112 ... 7117 7118 7119]\n",
      "   [7120 7121 7122 ... 7127 7128 7129]\n",
      "   ...\n",
      "   [7170 7171 7172 ... 7177 7178 7179]\n",
      "   [7180 7181 7182 ... 7187 7188 7189]\n",
      "   [7190 7191 7192 ... 7197 7198 7199]]\n",
      "\n",
      "  [[7200 7201 7202 ... 7207 7208 7209]\n",
      "   [7210 7211 7212 ... 7217 7218 7219]\n",
      "   [7220 7221 7222 ... 7227 7228 7229]\n",
      "   ...\n",
      "   [7270 7271 7272 ... 7277 7278 7279]\n",
      "   [7280 7281 7282 ... 7287 7288 7289]\n",
      "   [7290 7291 7292 ... 7297 7298 7299]]\n",
      "\n",
      "  ...\n",
      "\n",
      "  [[7700 7701 7702 ... 7707 7708 7709]\n",
      "   [7710 7711 7712 ... 7717 7718 7719]\n",
      "   [7720 7721 7722 ... 7727 7728 7729]\n",
      "   ...\n",
      "   [7770 7771 7772 ... 7777 7778 7779]\n",
      "   [7780 7781 7782 ... 7787 7788 7789]\n",
      "   [7790 7791 7792 ... 7797 7798 7799]]\n",
      "\n",
      "  [[7800 7801 7802 ... 7807 7808 7809]\n",
      "   [7810 7811 7812 ... 7817 7818 7819]\n",
      "   [7820 7821 7822 ... 7827 7828 7829]\n",
      "   ...\n",
      "   [7870 7871 7872 ... 7877 7878 7879]\n",
      "   [7880 7881 7882 ... 7887 7888 7889]\n",
      "   [7890 7891 7892 ... 7897 7898 7899]]\n",
      "\n",
      "  [[7900 7901 7902 ... 7907 7908 7909]\n",
      "   [7910 7911 7912 ... 7917 7918 7919]\n",
      "   [7920 7921 7922 ... 7927 7928 7929]\n",
      "   ...\n",
      "   [7970 7971 7972 ... 7977 7978 7979]\n",
      "   [7980 7981 7982 ... 7987 7988 7989]\n",
      "   [7990 7991 7992 ... 7997 7998 7999]]]\n",
      "\n",
      "\n",
      " [[[8000 8001 8002 ... 8007 8008 8009]\n",
      "   [8010 8011 8012 ... 8017 8018 8019]\n",
      "   [8020 8021 8022 ... 8027 8028 8029]\n",
      "   ...\n",
      "   [8070 8071 8072 ... 8077 8078 8079]\n",
      "   [8080 8081 8082 ... 8087 8088 8089]\n",
      "   [8090 8091 8092 ... 8097 8098 8099]]\n",
      "\n",
      "  [[8100 8101 8102 ... 8107 8108 8109]\n",
      "   [8110 8111 8112 ... 8117 8118 8119]\n",
      "   [8120 8121 8122 ... 8127 8128 8129]\n",
      "   ...\n",
      "   [8170 8171 8172 ... 8177 8178 8179]\n",
      "   [8180 8181 8182 ... 8187 8188 8189]\n",
      "   [8190 8191 8192 ... 8197 8198 8199]]\n",
      "\n",
      "  [[8200 8201 8202 ... 8207 8208 8209]\n",
      "   [8210 8211 8212 ... 8217 8218 8219]\n",
      "   [8220 8221 8222 ... 8227 8228 8229]\n",
      "   ...\n",
      "   [8270 8271 8272 ... 8277 8278 8279]\n",
      "   [8280 8281 8282 ... 8287 8288 8289]\n",
      "   [8290 8291 8292 ... 8297 8298 8299]]\n",
      "\n",
      "  ...\n",
      "\n",
      "  [[8700 8701 8702 ... 8707 8708 8709]\n",
      "   [8710 8711 8712 ... 8717 8718 8719]\n",
      "   [8720 8721 8722 ... 8727 8728 8729]\n",
      "   ...\n",
      "   [8770 8771 8772 ... 8777 8778 8779]\n",
      "   [8780 8781 8782 ... 8787 8788 8789]\n",
      "   [8790 8791 8792 ... 8797 8798 8799]]\n",
      "\n",
      "  [[8800 8801 8802 ... 8807 8808 8809]\n",
      "   [8810 8811 8812 ... 8817 8818 8819]\n",
      "   [8820 8821 8822 ... 8827 8828 8829]\n",
      "   ...\n",
      "   [8870 8871 8872 ... 8877 8878 8879]\n",
      "   [8880 8881 8882 ... 8887 8888 8889]\n",
      "   [8890 8891 8892 ... 8897 8898 8899]]\n",
      "\n",
      "  [[8900 8901 8902 ... 8907 8908 8909]\n",
      "   [8910 8911 8912 ... 8917 8918 8919]\n",
      "   [8920 8921 8922 ... 8927 8928 8929]\n",
      "   ...\n",
      "   [8970 8971 8972 ... 8977 8978 8979]\n",
      "   [8980 8981 8982 ... 8987 8988 8989]\n",
      "   [8990 8991 8992 ... 8997 8998 8999]]]\n",
      "\n",
      "\n",
      " [[[9000 9001 9002 ... 9007 9008 9009]\n",
      "   [9010 9011 9012 ... 9017 9018 9019]\n",
      "   [9020 9021 9022 ... 9027 9028 9029]\n",
      "   ...\n",
      "   [9070 9071 9072 ... 9077 9078 9079]\n",
      "   [9080 9081 9082 ... 9087 9088 9089]\n",
      "   [9090 9091 9092 ... 9097 9098 9099]]\n",
      "\n",
      "  [[9100 9101 9102 ... 9107 9108 9109]\n",
      "   [9110 9111 9112 ... 9117 9118 9119]\n",
      "   [9120 9121 9122 ... 9127 9128 9129]\n",
      "   ...\n",
      "   [9170 9171 9172 ... 9177 9178 9179]\n",
      "   [9180 9181 9182 ... 9187 9188 9189]\n",
      "   [9190 9191 9192 ... 9197 9198 9199]]\n",
      "\n",
      "  [[9200 9201 9202 ... 9207 9208 9209]\n",
      "   [9210 9211 9212 ... 9217 9218 9219]\n",
      "   [9220 9221 9222 ... 9227 9228 9229]\n",
      "   ...\n",
      "   [9270 9271 9272 ... 9277 9278 9279]\n",
      "   [9280 9281 9282 ... 9287 9288 9289]\n",
      "   [9290 9291 9292 ... 9297 9298 9299]]\n",
      "\n",
      "  ...\n",
      "\n",
      "  [[9700 9701 9702 ... 9707 9708 9709]\n",
      "   [9710 9711 9712 ... 9717 9718 9719]\n",
      "   [9720 9721 9722 ... 9727 9728 9729]\n",
      "   ...\n",
      "   [9770 9771 9772 ... 9777 9778 9779]\n",
      "   [9780 9781 9782 ... 9787 9788 9789]\n",
      "   [9790 9791 9792 ... 9797 9798 9799]]\n",
      "\n",
      "  [[9800 9801 9802 ... 9807 9808 9809]\n",
      "   [9810 9811 9812 ... 9817 9818 9819]\n",
      "   [9820 9821 9822 ... 9827 9828 9829]\n",
      "   ...\n",
      "   [9870 9871 9872 ... 9877 9878 9879]\n",
      "   [9880 9881 9882 ... 9887 9888 9889]\n",
      "   [9890 9891 9892 ... 9897 9898 9899]]\n",
      "\n",
      "  [[9900 9901 9902 ... 9907 9908 9909]\n",
      "   [9910 9911 9912 ... 9917 9918 9919]\n",
      "   [9920 9921 9922 ... 9927 9928 9929]\n",
      "   ...\n",
      "   [9970 9971 9972 ... 9977 9978 9979]\n",
      "   [9980 9981 9982 ... 9987 9988 9989]\n",
      "   [9990 9991 9992 ... 9997 9998 9999]]]]\n"
     ]
    }
   ],
   "source": [
    "print(np.arange(10_000).reshape((10, 10, 10, 10)))"
   ],
   "metadata": {
    "collapsed": false
   }
  },
  {
   "cell_type": "code",
   "execution_count": 106,
   "outputs": [
    {
     "name": "stdout",
     "output_type": "stream",
     "text": [
      "[1 2 3 4 5 6]\n",
      "(6,)\n",
      "[[1 2 3 4 5 6]]\n",
      "(1, 6)\n",
      "[[1]\n",
      " [2]\n",
      " [3]\n",
      " [4]\n",
      " [5]\n",
      " [6]]\n",
      "(6, 1)\n"
     ]
    }
   ],
   "source": [
    "a = np.arange(1, 7)\n",
    "print(a)\n",
    "print(a.shape)\n",
    "\n",
    "b = a[np.newaxis, :]\n",
    "print(b)\n",
    "print(b.shape)\n",
    "\n",
    "b = a[:, np.newaxis]\n",
    "print(b)\n",
    "print(b.shape)"
   ],
   "metadata": {
    "collapsed": false
   }
  },
  {
   "cell_type": "markdown",
   "source": [
    "concatenation"
   ],
   "metadata": {
    "collapsed": false
   }
  },
  {
   "cell_type": "code",
   "execution_count": 110,
   "outputs": [
    {
     "name": "stdout",
     "output_type": "stream",
     "text": [
      "[[1 2]\n",
      " [3 4]]\n",
      "[[5 6]]\n",
      "[[1 2]\n",
      " [3 4]\n",
      " [5 6]]\n",
      "[1 2 3 4 5 6]\n",
      "[[1 2 5]\n",
      " [3 4 6]]\n"
     ]
    }
   ],
   "source": [
    "a = np.array([[1, 2], [3, 4]])\n",
    "print(a)\n",
    "\n",
    "b = np.array([[5, 6]])\n",
    "print(b)\n",
    "\n",
    "c = np.concatenate((a, b))\n",
    "print(c)\n",
    "\n",
    "c = np.concatenate((a, b), axis=None)\n",
    "print(c)\n",
    "\n",
    "c = np.concatenate((a, b.T), axis=1)\n",
    "print(c)"
   ],
   "metadata": {
    "collapsed": false
   }
  },
  {
   "cell_type": "markdown",
   "source": [
    "stacking"
   ],
   "metadata": {
    "collapsed": false
   }
  },
  {
   "cell_type": "code",
   "execution_count": 112,
   "outputs": [
    {
     "name": "stdout",
     "output_type": "stream",
     "text": [
      "[1 2 3 4]\n",
      "[5 6 7 8]\n",
      "[1 2 3 4 5 6 7 8]\n",
      "[[1 2 3 4]\n",
      " [5 6 7 8]]\n"
     ]
    }
   ],
   "source": [
    "a = np.array([1, 2, 3, 4])\n",
    "b = np.array([5, 6, 7, 8])\n",
    "print(a)\n",
    "print(b)\n",
    "\n",
    "c = np.hstack((a, b))\n",
    "print(c)\n",
    "\n",
    "c = np.vstack((a, b))\n",
    "print(c)"
   ],
   "metadata": {
    "collapsed": false
   }
  },
  {
   "cell_type": "markdown",
   "source": [
    "broadcasting"
   ],
   "metadata": {
    "collapsed": false
   }
  },
  {
   "cell_type": "code",
   "execution_count": 113,
   "outputs": [
    {
     "name": "stdout",
     "output_type": "stream",
     "text": [
      "[[1 2 3]\n",
      " [4 5 6]\n",
      " [1 2 3]\n",
      " [4 5 6]]\n",
      "[1 0 1]\n",
      "[[2 2 4]\n",
      " [5 5 7]\n",
      " [2 2 4]\n",
      " [5 5 7]]\n"
     ]
    }
   ],
   "source": [
    "x = np.array([[1, 2, 3], [4, 5, 6], [1, 2, 3], [4, 5, 6]])\n",
    "a = np.array([1, 0, 1])\n",
    "print(x)\n",
    "print(a)\n",
    "\n",
    "y = x + a\n",
    "print(y)"
   ],
   "metadata": {
    "collapsed": false
   }
  },
  {
   "cell_type": "markdown",
   "source": [
    "dot product"
   ],
   "metadata": {
    "collapsed": false
   }
  },
  {
   "cell_type": "code",
   "execution_count": 77,
   "outputs": [
    {
     "name": "stdout",
     "output_type": "stream",
     "text": [
      "32\n",
      "32\n",
      "True\n"
     ]
    }
   ],
   "source": [
    "l1 = [1, 2, 3]\n",
    "l2 = [4, 5, 6]\n",
    "a1 = np.array(l1)\n",
    "a2 = np.array(l2)\n",
    "\n",
    "dot = 0\n",
    "for i in range(len(l1)):\n",
    "    dot += l1[i] * l2[i]\n",
    "print(dot)\n",
    "\n",
    "dot = np.dot(a1, a2)\n",
    "print(dot)\n",
    "\n",
    "print(np.dot(a1, a2) == a1 @ a2)"
   ],
   "metadata": {
    "collapsed": false
   }
  },
  {
   "cell_type": "markdown",
   "source": [
    "speed test array vs list:"
   ],
   "metadata": {
    "collapsed": false
   }
  },
  {
   "cell_type": "code",
   "execution_count": 103,
   "outputs": [
    {
     "name": "stdout",
     "output_type": "stream",
     "text": [
      "list calculation 0.169232235995878\n",
      "np.dot 0.0012608390024979599\n",
      "@ dot 0.0013710839994018897\n",
      "ratio list vs np.dot 134.22192338640937\n",
      "ratio list vs @ dot 123.42951713367121\n",
      "ratio np.dot vs @ dot 0.9195928207520311\n"
     ]
    }
   ],
   "source": [
    "from timeit import default_timer as timer\n",
    "\n",
    "a = np.random.randn(1000)\n",
    "b = np.random.randn(1000)\n",
    "\n",
    "A = list(a)\n",
    "B = list(b)\n",
    "\n",
    "T = 1000\n",
    "\n",
    "def dot1():\n",
    "    dot = 0\n",
    "    for i in range(len(A)):\n",
    "        dot += A[i]*B[i]\n",
    "    return dot\n",
    "\n",
    "def dot2():\n",
    "    return np.dot(a, b)\n",
    "\n",
    "def dot3():\n",
    "    return a @ b\n",
    "\n",
    "start = timer()\n",
    "for t in range(T):\n",
    "    dot1()\n",
    "end = timer()\n",
    "t1 = end - start\n",
    "\n",
    "start = timer()\n",
    "for t in range(T):\n",
    "    dot2()\n",
    "end = timer()\n",
    "t2 = end - start\n",
    "\n",
    "start = timer()\n",
    "for t in range(T):\n",
    "    dot3()\n",
    "end = timer()\n",
    "t3 = end - start\n",
    "\n",
    "print('list calculation', t1)\n",
    "print('np.dot', t2)\n",
    "print('@ dot', t3)\n",
    "print('ratio list vs np.dot', t1 / t2)\n",
    "print('ratio list vs @ dot', t1 / t3)\n",
    "print('ratio np.dot vs @ dot', t2 / t3)"
   ],
   "metadata": {
    "collapsed": false
   }
  },
  {
   "cell_type": "code",
   "execution_count": 63,
   "outputs": [
    {
     "name": "stdout",
     "output_type": "stream",
     "text": [
      "[11 22 33 44 55]\n",
      "[ 9 18 27 36 45]\n",
      "[ 10  40  90 160 250]\n",
      "[10. 10. 10. 10. 10.]\n",
      "[       10       400     27000   2560000 312500000]\n"
     ]
    }
   ],
   "source": [
    "a = np.array([10, 20, 30, 40, 50])\n",
    "b = np.arange(1, 6)\n",
    "print(a + b)\n",
    "print(a - b)\n",
    "print(a * b)  # elementwise product\n",
    "print(a / b)\n",
    "print(a ** b)"
   ],
   "metadata": {
    "collapsed": false
   }
  },
  {
   "cell_type": "code",
   "execution_count": 64,
   "outputs": [
    {
     "name": "stdout",
     "output_type": "stream",
     "text": [
      "[15 25 35 45 55]\n"
     ]
    }
   ],
   "source": [
    "print(a + 5)"
   ],
   "metadata": {
    "collapsed": false
   }
  },
  {
   "cell_type": "code",
   "execution_count": 65,
   "outputs": [
    {
     "data": {
      "text/plain": "array([ True,  True, False, False, False])"
     },
     "execution_count": 65,
     "metadata": {},
     "output_type": "execute_result"
    }
   ],
   "source": [
    "a < 30"
   ],
   "metadata": {
    "collapsed": false
   }
  },
  {
   "cell_type": "code",
   "execution_count": 69,
   "outputs": [
    {
     "name": "stdout",
     "output_type": "stream",
     "text": [
      "[[2 0]\n",
      " [0 4]]\n",
      "[[8 8]\n",
      " [3 4]]\n",
      "[[8 8]\n",
      " [3 4]]\n",
      "[[ 2  4]\n",
      " [ 3 10]]\n"
     ]
    }
   ],
   "source": [
    "A = np.array([[1, 2], [0, 1]])\n",
    "B = np.array([[2, 0], [3, 4]])\n",
    "print(A * B)    # elementwise product\n",
    "print(A @ B)    # matrix product\n",
    "print(A.dot(B)) # another matrix product\n",
    "print(B.dot(A))"
   ],
   "metadata": {
    "collapsed": false
   }
  },
  {
   "cell_type": "markdown",
   "source": [
    "Transpose array:"
   ],
   "metadata": {
    "collapsed": false
   }
  },
  {
   "cell_type": "code",
   "execution_count": 93,
   "outputs": [
    {
     "name": "stdout",
     "output_type": "stream",
     "text": [
      "[[1 2 6]\n",
      " [3 4 8]]\n",
      "[[1 3]\n",
      " [2 4]\n",
      " [6 8]]\n"
     ]
    }
   ],
   "source": [
    "a = np.array([[1, 2, 6], [3, 4, 8]])\n",
    "print(a)\n",
    "print(a.T)"
   ],
   "metadata": {
    "collapsed": false
   }
  },
  {
   "cell_type": "code",
   "execution_count": 94,
   "outputs": [
    {
     "name": "stdout",
     "output_type": "stream",
     "text": [
      "[[-2.   1. ]\n",
      " [ 1.5 -0.5]]\n"
     ]
    }
   ],
   "source": [
    "a = np.array([[1, 2], [3, 4]])\n",
    "print(np.linalg.inv(a))"
   ],
   "metadata": {
    "collapsed": false
   }
  },
  {
   "cell_type": "code",
   "execution_count": 95,
   "outputs": [
    {
     "name": "stdout",
     "output_type": "stream",
     "text": [
      "-2.0000000000000004\n"
     ]
    }
   ],
   "source": [
    "a = np.array([[1, 2], [3, 4]])\n",
    "print(np.linalg.det(a))"
   ],
   "metadata": {
    "collapsed": false
   }
  },
  {
   "cell_type": "code",
   "execution_count": 96,
   "outputs": [
    {
     "name": "stdout",
     "output_type": "stream",
     "text": [
      "[1 4]\n"
     ]
    }
   ],
   "source": [
    "a = np.array([[1, 2], [3, 4]])\n",
    "print(np.diag(a))"
   ],
   "metadata": {
    "collapsed": false
   }
  },
  {
   "cell_type": "code",
   "execution_count": 97,
   "outputs": [
    {
     "name": "stdout",
     "output_type": "stream",
     "text": [
      "[[1 2]\n",
      " [3 4]\n",
      " [5 6]]\n",
      "[3 4 5 6]\n",
      "[[-1 -1]\n",
      " [ 3  4]\n",
      " [ 5  6]]\n"
     ]
    }
   ],
   "source": [
    "a = np.array([[1, 2], [3, 4], [5, 6]])\n",
    "print(a)\n",
    "\n",
    "print(a[a > 2])\n",
    "\n",
    "print(np.where(a>2, a, -1))"
   ],
   "metadata": {
    "collapsed": false
   }
  },
  {
   "cell_type": "code",
   "execution_count": 76,
   "outputs": [],
   "source": [
    "rg = np.random.default_rng(1)"
   ],
   "metadata": {
    "collapsed": false
   }
  },
  {
   "cell_type": "code",
   "execution_count": 77,
   "outputs": [
    {
     "name": "stdout",
     "output_type": "stream",
     "text": [
      "[[1 1 1]\n",
      " [1 1 1]]\n",
      "[[0.51182162 0.9504637  0.14415961]\n",
      " [0.94864945 0.31183145 0.42332645]]\n"
     ]
    }
   ],
   "source": [
    "a = np.ones((2, 3), dtype=np.int64)\n",
    "b = rg.random((2, 3))\n",
    "print(a)\n",
    "print(b)"
   ],
   "metadata": {
    "collapsed": false
   }
  },
  {
   "cell_type": "code",
   "execution_count": 78,
   "outputs": [
    {
     "name": "stdout",
     "output_type": "stream",
     "text": [
      "[[3 3 3]\n",
      " [3 3 3]]\n"
     ]
    }
   ],
   "source": [
    "a *= 3\n",
    "print(a)"
   ],
   "metadata": {
    "collapsed": false
   }
  },
  {
   "cell_type": "code",
   "execution_count": 79,
   "outputs": [
    {
     "name": "stdout",
     "output_type": "stream",
     "text": [
      "[[3.51182162 3.9504637  3.14415961]\n",
      " [3.94864945 3.31183145 3.42332645]]\n"
     ]
    }
   ],
   "source": [
    "b += a\n",
    "print(b)"
   ],
   "metadata": {
    "collapsed": false
   }
  },
  {
   "cell_type": "code",
   "execution_count": 86,
   "outputs": [
    {
     "name": "stdout",
     "output_type": "stream",
     "text": [
      "int32\n",
      "float64\n"
     ]
    }
   ],
   "source": [
    "a = np.ones(3, dtype=np.int32)\n",
    "b = np.linspace(0, np.pi, 3)\n",
    "print(a.dtype)\n",
    "print(b.dtype)"
   ],
   "metadata": {
    "collapsed": false
   }
  },
  {
   "cell_type": "code",
   "execution_count": 87,
   "outputs": [
    {
     "name": "stdout",
     "output_type": "stream",
     "text": [
      "float64\n"
     ]
    }
   ],
   "source": [
    "c = a + b\n",
    "print(c.dtype)"
   ],
   "metadata": {
    "collapsed": false
   }
  },
  {
   "cell_type": "code",
   "execution_count": 88,
   "outputs": [
    {
     "name": "stdout",
     "output_type": "stream",
     "text": [
      "[ 0.54030231+0.84147098j -0.84147098+0.54030231j -0.54030231-0.84147098j]\n",
      "complex128\n"
     ]
    }
   ],
   "source": [
    "d = np.exp(c * 1j)\n",
    "print(d)\n",
    "print(d.dtype)"
   ],
   "metadata": {
    "collapsed": false
   }
  },
  {
   "cell_type": "code",
   "execution_count": 89,
   "outputs": [
    {
     "name": "stdout",
     "output_type": "stream",
     "text": [
      "[[0.82770259 0.40919914 0.54959369]\n",
      " [0.02755911 0.75351311 0.53814331]]\n"
     ]
    }
   ],
   "source": [
    "a = rg.random((2, 3))\n",
    "print(a)"
   ],
   "metadata": {
    "collapsed": false
   }
  },
  {
   "cell_type": "code",
   "execution_count": 90,
   "outputs": [
    {
     "data": {
      "text/plain": "3.1057109529998157"
     },
     "execution_count": 90,
     "metadata": {},
     "output_type": "execute_result"
    }
   ],
   "source": [
    "a.sum()"
   ],
   "metadata": {
    "collapsed": false
   }
  },
  {
   "cell_type": "code",
   "execution_count": 91,
   "outputs": [
    {
     "data": {
      "text/plain": "0.027559113243068367"
     },
     "execution_count": 91,
     "metadata": {},
     "output_type": "execute_result"
    }
   ],
   "source": [
    "a.min()"
   ],
   "metadata": {
    "collapsed": false
   }
  },
  {
   "cell_type": "code",
   "execution_count": 92,
   "outputs": [
    {
     "data": {
      "text/plain": "0.8277025938204418"
     },
     "execution_count": 92,
     "metadata": {},
     "output_type": "execute_result"
    }
   ],
   "source": [
    "a.max()"
   ],
   "metadata": {
    "collapsed": false
   }
  },
  {
   "cell_type": "code",
   "execution_count": 94,
   "outputs": [
    {
     "data": {
      "text/plain": "array([[ 0,  1,  2,  3],\n       [ 4,  5,  6,  7],\n       [ 8,  9, 10, 11]])"
     },
     "execution_count": 94,
     "metadata": {},
     "output_type": "execute_result"
    }
   ],
   "source": [
    "b = np.arange(12).reshape((3, 4))\n",
    "b"
   ],
   "metadata": {
    "collapsed": false
   }
  },
  {
   "cell_type": "code",
   "execution_count": 95,
   "outputs": [
    {
     "data": {
      "text/plain": "array([12, 15, 18, 21])"
     },
     "execution_count": 95,
     "metadata": {},
     "output_type": "execute_result"
    }
   ],
   "source": [
    "b.sum(axis=0)"
   ],
   "metadata": {
    "collapsed": false
   }
  },
  {
   "cell_type": "code",
   "execution_count": 96,
   "outputs": [
    {
     "data": {
      "text/plain": "array([ 6, 22, 38])"
     },
     "execution_count": 96,
     "metadata": {},
     "output_type": "execute_result"
    }
   ],
   "source": [
    "b.sum(axis=1)"
   ],
   "metadata": {
    "collapsed": false
   }
  },
  {
   "cell_type": "code",
   "execution_count": 98,
   "outputs": [
    {
     "data": {
      "text/plain": "array([ 3,  7, 11])"
     },
     "execution_count": 98,
     "metadata": {},
     "output_type": "execute_result"
    }
   ],
   "source": [
    "b.max(axis=1)"
   ],
   "metadata": {
    "collapsed": false
   }
  },
  {
   "cell_type": "code",
   "execution_count": 99,
   "outputs": [
    {
     "data": {
      "text/plain": "array([[ 0,  1,  3,  6],\n       [ 4,  9, 15, 22],\n       [ 8, 17, 27, 38]])"
     },
     "execution_count": 99,
     "metadata": {},
     "output_type": "execute_result"
    }
   ],
   "source": [
    "b.cumsum(axis=1)"
   ],
   "metadata": {
    "collapsed": false
   }
  },
  {
   "cell_type": "code",
   "execution_count": 100,
   "outputs": [
    {
     "data": {
      "text/plain": "array([[   0,    0,    0,    0],\n       [   4,   20,  120,  840],\n       [   8,   72,  720, 7920]])"
     },
     "execution_count": 100,
     "metadata": {},
     "output_type": "execute_result"
    }
   ],
   "source": [
    "b.cumprod(axis=1)"
   ],
   "metadata": {
    "collapsed": false
   }
  },
  {
   "cell_type": "code",
   "execution_count": 109,
   "outputs": [
    {
     "data": {
      "text/plain": "array([ 0,  1,  2,  3,  4,  5,  6,  7,  8,  9, 10, 11, 12, 13, 14])"
     },
     "execution_count": 109,
     "metadata": {},
     "output_type": "execute_result"
    }
   ],
   "source": [
    "B = np.arange(15)\n",
    "B"
   ],
   "metadata": {
    "collapsed": false
   }
  },
  {
   "cell_type": "code",
   "execution_count": 110,
   "outputs": [
    {
     "data": {
      "text/plain": "array([1.00000000e+00, 2.71828183e+00, 7.38905610e+00, 2.00855369e+01,\n       5.45981500e+01, 1.48413159e+02, 4.03428793e+02, 1.09663316e+03,\n       2.98095799e+03, 8.10308393e+03, 2.20264658e+04, 5.98741417e+04,\n       1.62754791e+05, 4.42413392e+05, 1.20260428e+06])"
     },
     "execution_count": 110,
     "metadata": {},
     "output_type": "execute_result"
    }
   ],
   "source": [
    "np.exp(B)"
   ],
   "metadata": {
    "collapsed": false
   }
  },
  {
   "cell_type": "code",
   "execution_count": 111,
   "outputs": [
    {
     "data": {
      "text/plain": "array([0.        , 1.        , 1.41421356, 1.73205081, 2.        ,\n       2.23606798, 2.44948974, 2.64575131, 2.82842712, 3.        ,\n       3.16227766, 3.31662479, 3.46410162, 3.60555128, 3.74165739])"
     },
     "execution_count": 111,
     "metadata": {},
     "output_type": "execute_result"
    }
   ],
   "source": [
    "np.sqrt(B)"
   ],
   "metadata": {
    "collapsed": false
   }
  },
  {
   "cell_type": "code",
   "execution_count": 112,
   "outputs": [
    {
     "data": {
      "text/plain": "False"
     },
     "execution_count": 112,
     "metadata": {},
     "output_type": "execute_result"
    }
   ],
   "source": [
    "np.all(B)"
   ],
   "metadata": {
    "collapsed": false
   }
  },
  {
   "cell_type": "code",
   "execution_count": 113,
   "outputs": [
    {
     "data": {
      "text/plain": "True"
     },
     "execution_count": 113,
     "metadata": {},
     "output_type": "execute_result"
    }
   ],
   "source": [
    "np.any(B)"
   ],
   "metadata": {
    "collapsed": false
   }
  },
  {
   "cell_type": "code",
   "execution_count": 132,
   "outputs": [],
   "source": [
    "A = np.array([[5, 3, 1], [3, 8, 1]])"
   ],
   "metadata": {
    "collapsed": false
   }
  },
  {
   "cell_type": "code",
   "execution_count": 133,
   "outputs": [
    {
     "data": {
      "text/plain": "4"
     },
     "execution_count": 133,
     "metadata": {},
     "output_type": "execute_result"
    }
   ],
   "source": [
    "np.argmax(A)"
   ],
   "metadata": {
    "collapsed": false
   }
  },
  {
   "cell_type": "code",
   "execution_count": 134,
   "outputs": [
    {
     "data": {
      "text/plain": "2"
     },
     "execution_count": 134,
     "metadata": {},
     "output_type": "execute_result"
    }
   ],
   "source": [
    "np.argmin(A)"
   ],
   "metadata": {
    "collapsed": false
   }
  },
  {
   "cell_type": "code",
   "execution_count": 135,
   "outputs": [
    {
     "data": {
      "text/plain": "array([0, 1])"
     },
     "execution_count": 135,
     "metadata": {},
     "output_type": "execute_result"
    }
   ],
   "source": [
    "np.argmax(A, axis=1)"
   ],
   "metadata": {
    "collapsed": false
   }
  },
  {
   "cell_type": "code",
   "execution_count": 136,
   "outputs": [
    {
     "data": {
      "text/plain": "array([2, 2])"
     },
     "execution_count": 136,
     "metadata": {},
     "output_type": "execute_result"
    }
   ],
   "source": [
    "np.argmin(A, axis=1)"
   ],
   "metadata": {
    "collapsed": false
   }
  },
  {
   "cell_type": "code",
   "execution_count": 116,
   "outputs": [
    {
     "data": {
      "text/plain": "array([ 0,  1,  2,  3,  4,  5,  6,  7,  8,  9, 10, 11, 12, 13, 14])"
     },
     "execution_count": 116,
     "metadata": {},
     "output_type": "execute_result"
    }
   ],
   "source": [
    "np.argsort(B)"
   ],
   "metadata": {
    "collapsed": false
   }
  },
  {
   "cell_type": "code",
   "execution_count": 117,
   "outputs": [
    {
     "data": {
      "text/plain": "7.0"
     },
     "execution_count": 117,
     "metadata": {},
     "output_type": "execute_result"
    }
   ],
   "source": [
    "np.average(B)"
   ],
   "metadata": {
    "collapsed": false
   }
  },
  {
   "cell_type": "code",
   "execution_count": 118,
   "outputs": [
    {
     "data": {
      "text/plain": "array([1, 1, 1, 1, 1, 1, 1, 1, 1, 1, 1, 1, 1, 1, 1])"
     },
     "execution_count": 118,
     "metadata": {},
     "output_type": "execute_result"
    }
   ],
   "source": [
    "np.bincount(B)"
   ],
   "metadata": {
    "collapsed": false
   }
  },
  {
   "cell_type": "code",
   "execution_count": 119,
   "outputs": [
    {
     "data": {
      "text/plain": "array([ 0.,  1.,  2.,  3.,  4.,  5.,  6.,  7.,  8.,  9., 10., 11., 12.,\n       13., 14.])"
     },
     "execution_count": 119,
     "metadata": {},
     "output_type": "execute_result"
    }
   ],
   "source": [
    "np.ceil(B)"
   ],
   "metadata": {
    "collapsed": false
   }
  },
  {
   "cell_type": "code",
   "execution_count": 121,
   "outputs": [
    {
     "data": {
      "text/plain": "array([ 0,  1,  2,  3,  4,  5,  6,  7,  8,  9, 10, 11, 12, 13, 14])"
     },
     "execution_count": 121,
     "metadata": {},
     "output_type": "execute_result"
    }
   ],
   "source": [
    "np.conj(B)"
   ],
   "metadata": {
    "collapsed": false
   }
  },
  {
   "cell_type": "code",
   "execution_count": 122,
   "outputs": [
    {
     "data": {
      "text/plain": "array([ -1,  -2,  -3,  -4,  -5,  -6,  -7,  -8,  -9, -10, -11, -12, -13,\n       -14, -15])"
     },
     "execution_count": 122,
     "metadata": {},
     "output_type": "execute_result"
    }
   ],
   "source": [
    "np.invert(B)"
   ],
   "metadata": {
    "collapsed": false
   }
  },
  {
   "cell_type": "code",
   "execution_count": 124,
   "outputs": [
    {
     "data": {
      "text/plain": "18.666666666666668"
     },
     "execution_count": 124,
     "metadata": {},
     "output_type": "execute_result"
    }
   ],
   "source": [
    "np.var(B)"
   ],
   "metadata": {
    "collapsed": false
   }
  },
  {
   "cell_type": "code",
   "execution_count": 125,
   "outputs": [
    {
     "data": {
      "text/plain": "(array([ 1,  2,  3,  4,  5,  6,  7,  8,  9, 10, 11, 12, 13, 14]),)"
     },
     "execution_count": 125,
     "metadata": {},
     "output_type": "execute_result"
    }
   ],
   "source": [
    "np.where(B)"
   ],
   "metadata": {
    "collapsed": false
   }
  },
  {
   "cell_type": "code",
   "execution_count": 126,
   "outputs": [
    {
     "data": {
      "text/plain": "array([  0,   1,   8,  27,  64, 125, 216, 343, 512, 729])"
     },
     "execution_count": 126,
     "metadata": {},
     "output_type": "execute_result"
    }
   ],
   "source": [
    "a = np.arange(10)**3\n",
    "a"
   ],
   "metadata": {
    "collapsed": false
   }
  },
  {
   "cell_type": "code",
   "execution_count": 127,
   "outputs": [
    {
     "name": "stdout",
     "output_type": "stream",
     "text": [
      "8\n",
      "[ 8 27 64]\n"
     ]
    }
   ],
   "source": [
    "print(a[2])\n",
    "print(a[2:5])"
   ],
   "metadata": {
    "collapsed": false
   }
  },
  {
   "cell_type": "code",
   "execution_count": 128,
   "outputs": [
    {
     "data": {
      "text/plain": "array([1000,    1, 1000,   27, 1000,  125,  216,  343,  512,  729])"
     },
     "execution_count": 128,
     "metadata": {},
     "output_type": "execute_result"
    }
   ],
   "source": [
    "a[:6:2] = 1000\n",
    "a"
   ],
   "metadata": {
    "collapsed": false
   }
  },
  {
   "cell_type": "code",
   "execution_count": 129,
   "outputs": [
    {
     "data": {
      "text/plain": "array([ 729,  512,  343,  216,  125, 1000,   27, 1000,    1, 1000])"
     },
     "execution_count": 129,
     "metadata": {},
     "output_type": "execute_result"
    }
   ],
   "source": [
    "a[::-1]"
   ],
   "metadata": {
    "collapsed": false
   }
  },
  {
   "cell_type": "code",
   "execution_count": 131,
   "outputs": [
    {
     "name": "stdout",
     "output_type": "stream",
     "text": [
      "9.999999999999998\n",
      "1.0\n",
      "9.999999999999998\n",
      "3.0\n",
      "9.999999999999998\n",
      "4.999999999999999\n",
      "5.999999999999999\n",
      "6.999999999999999\n",
      "7.999999999999999\n",
      "8.999999999999998\n"
     ]
    }
   ],
   "source": [
    "for i in a:\n",
    "    print(i ** (1 / 3.))"
   ],
   "metadata": {
    "collapsed": false
   }
  },
  {
   "cell_type": "code",
   "execution_count": 144,
   "outputs": [
    {
     "data": {
      "text/plain": "array([0.0e+000, 4.9e-324, 9.9e-324, 1.5e-323, 2.0e-323, 2.5e-323,\n       3.0e-323, 3.5e-323, 4.0e-323, 4.4e-323])"
     },
     "execution_count": 144,
     "metadata": {},
     "output_type": "execute_result"
    }
   ],
   "source": [
    "np.empty(10)"
   ],
   "metadata": {
    "collapsed": false
   }
  },
  {
   "cell_type": "code",
   "execution_count": 147,
   "outputs": [
    {
     "data": {
      "text/plain": "1073741824"
     },
     "execution_count": 147,
     "metadata": {},
     "output_type": "execute_result"
    }
   ],
   "source": [
    "np.int32(2**30)"
   ],
   "metadata": {
    "collapsed": false
   }
  },
  {
   "cell_type": "markdown",
   "source": [
    "get the numpy version and show numpy build configuration:"
   ],
   "metadata": {
    "collapsed": false
   }
  },
  {
   "cell_type": "code",
   "execution_count": 2,
   "outputs": [
    {
     "name": "stdout",
     "output_type": "stream",
     "text": [
      "1.23.5\n",
      "blas_armpl_info:\n",
      "  NOT AVAILABLE\n",
      "blas_mkl_info:\n",
      "    libraries = ['mkl_rt', 'pthread']\n",
      "    library_dirs = ['/home/danis/anaconda3/envs/python-science-tools/lib']\n",
      "    define_macros = [('SCIPY_MKL_H', None), ('HAVE_CBLAS', None)]\n",
      "    include_dirs = ['/home/danis/anaconda3/envs/python-science-tools/include']\n",
      "blas_opt_info:\n",
      "    libraries = ['mkl_rt', 'pthread']\n",
      "    library_dirs = ['/home/danis/anaconda3/envs/python-science-tools/lib']\n",
      "    define_macros = [('SCIPY_MKL_H', None), ('HAVE_CBLAS', None)]\n",
      "    include_dirs = ['/home/danis/anaconda3/envs/python-science-tools/include']\n",
      "lapack_armpl_info:\n",
      "  NOT AVAILABLE\n",
      "lapack_mkl_info:\n",
      "    libraries = ['mkl_rt', 'pthread']\n",
      "    library_dirs = ['/home/danis/anaconda3/envs/python-science-tools/lib']\n",
      "    define_macros = [('SCIPY_MKL_H', None), ('HAVE_CBLAS', None)]\n",
      "    include_dirs = ['/home/danis/anaconda3/envs/python-science-tools/include']\n",
      "lapack_opt_info:\n",
      "    libraries = ['mkl_rt', 'pthread']\n",
      "    library_dirs = ['/home/danis/anaconda3/envs/python-science-tools/lib']\n",
      "    define_macros = [('SCIPY_MKL_H', None), ('HAVE_CBLAS', None)]\n",
      "    include_dirs = ['/home/danis/anaconda3/envs/python-science-tools/include']\n",
      "Supported SIMD extensions in this NumPy install:\n",
      "    baseline = SSE,SSE2,SSE3\n",
      "    found = SSSE3,SSE41,POPCNT,SSE42,AVX,F16C,FMA3,AVX2\n",
      "    not found = AVX512F,AVX512CD,AVX512_KNL,AVX512_KNM,AVX512_SKX,AVX512_CLX,AVX512_CNL,AVX512_ICL\n",
      "None\n"
     ]
    }
   ],
   "source": [
    "print(np.__version__)\n",
    "print(np.show_config())"
   ],
   "metadata": {
    "collapsed": false
   }
  },
  {
   "cell_type": "markdown",
   "source": [
    "get help on the add function:"
   ],
   "metadata": {
    "collapsed": false
   }
  },
  {
   "cell_type": "code",
   "execution_count": 3,
   "outputs": [
    {
     "name": "stdout",
     "output_type": "stream",
     "text": [
      "add(x1, x2, /, out=None, *, where=True, casting='same_kind', order='K', dtype=None, subok=True[, signature, extobj])\n",
      "\n",
      "Add arguments element-wise.\n",
      "\n",
      "Parameters\n",
      "----------\n",
      "x1, x2 : array_like\n",
      "    The arrays to be added.\n",
      "    If ``x1.shape != x2.shape``, they must be broadcastable to a common\n",
      "    shape (which becomes the shape of the output).\n",
      "out : ndarray, None, or tuple of ndarray and None, optional\n",
      "    A location into which the result is stored. If provided, it must have\n",
      "    a shape that the inputs broadcast to. If not provided or None,\n",
      "    a freshly-allocated array is returned. A tuple (possible only as a\n",
      "    keyword argument) must have length equal to the number of outputs.\n",
      "where : array_like, optional\n",
      "    This condition is broadcast over the input. At locations where the\n",
      "    condition is True, the `out` array will be set to the ufunc result.\n",
      "    Elsewhere, the `out` array will retain its original value.\n",
      "    Note that if an uninitialized `out` array is created via the default\n",
      "    ``out=None``, locations within it where the condition is False will\n",
      "    remain uninitialized.\n",
      "**kwargs\n",
      "    For other keyword-only arguments, see the\n",
      "    :ref:`ufunc docs <ufuncs.kwargs>`.\n",
      "\n",
      "Returns\n",
      "-------\n",
      "add : ndarray or scalar\n",
      "    The sum of `x1` and `x2`, element-wise.\n",
      "    This is a scalar if both `x1` and `x2` are scalars.\n",
      "\n",
      "Notes\n",
      "-----\n",
      "Equivalent to `x1` + `x2` in terms of array broadcasting.\n",
      "\n",
      "Examples\n",
      "--------\n",
      ">>> np.add(1.0, 4.0)\n",
      "5.0\n",
      ">>> x1 = np.arange(9.0).reshape((3, 3))\n",
      ">>> x2 = np.arange(3.0)\n",
      ">>> np.add(x1, x2)\n",
      "array([[  0.,   2.,   4.],\n",
      "       [  3.,   5.,   7.],\n",
      "       [  6.,   8.,  10.]])\n",
      "\n",
      "The ``+`` operator can be used as a shorthand for ``np.add`` on ndarrays.\n",
      "\n",
      ">>> x1 = np.arange(9.0).reshape((3, 3))\n",
      ">>> x2 = np.arange(3.0)\n",
      ">>> x1 + x2\n",
      "array([[ 0.,  2.,  4.],\n",
      "       [ 3.,  5.,  7.],\n",
      "       [ 6.,  8., 10.]])\n",
      "None\n"
     ]
    }
   ],
   "source": [
    "print(np.info(np.add))"
   ],
   "metadata": {
    "collapsed": false
   }
  },
  {
   "cell_type": "markdown",
   "source": [
    "test whether none of the elements of a given array is non-zero:"
   ],
   "metadata": {
    "collapsed": false
   }
  },
  {
   "cell_type": "code",
   "execution_count": 4,
   "outputs": [
    {
     "name": "stdout",
     "output_type": "stream",
     "text": [
      "True\n",
      "False\n"
     ]
    }
   ],
   "source": [
    "x = np.array([1, 2, 3, 4])\n",
    "y = np.array([0, 2, 4])\n",
    "print(np.all(x))\n",
    "print(np.all(y))"
   ],
   "metadata": {
    "collapsed": false
   }
  },
  {
   "cell_type": "markdown",
   "source": [
    "test whether any of the elements of a given array is non-zero:"
   ],
   "metadata": {
    "collapsed": false
   }
  },
  {
   "cell_type": "code",
   "execution_count": 5,
   "outputs": [
    {
     "name": "stdout",
     "output_type": "stream",
     "text": [
      "True\n",
      "False\n"
     ]
    }
   ],
   "source": [
    "x = np.array([1, 0, 0, 0])\n",
    "y = np.array([0, 0, 0])\n",
    "print(np.any(x))\n",
    "print(np.any(y))"
   ],
   "metadata": {
    "collapsed": false
   }
  },
  {
   "cell_type": "markdown",
   "source": [
    "test a given array element-wise for finiteness (not infinity or not a Number):"
   ],
   "metadata": {
    "collapsed": false
   }
  },
  {
   "cell_type": "code",
   "execution_count": 6,
   "outputs": [
    {
     "name": "stdout",
     "output_type": "stream",
     "text": [
      "[ True  True False False]\n"
     ]
    }
   ],
   "source": [
    "x = np.array([1, 0, np.nan, np.inf])\n",
    "print(np.isfinite(x))"
   ],
   "metadata": {
    "collapsed": false
   }
  },
  {
   "cell_type": "markdown",
   "source": [
    "test element-wise for positive or negative infinity:"
   ],
   "metadata": {
    "collapsed": false
   }
  },
  {
   "cell_type": "code",
   "execution_count": 7,
   "outputs": [
    {
     "name": "stdout",
     "output_type": "stream",
     "text": [
      "[False False False  True]\n"
     ]
    }
   ],
   "source": [
    "x = np.array([1, 0, np.nan, np.inf])\n",
    "print(np.isinf(x))"
   ],
   "metadata": {
    "collapsed": false
   }
  },
  {
   "cell_type": "markdown",
   "source": [
    "test element-wise for NaN of a given array:"
   ],
   "metadata": {
    "collapsed": false
   }
  },
  {
   "cell_type": "code",
   "execution_count": 8,
   "outputs": [
    {
     "name": "stdout",
     "output_type": "stream",
     "text": [
      "[False False  True False]\n"
     ]
    }
   ],
   "source": [
    "x = np.array([1, 0, np.nan, np.inf])\n",
    "print(np.isnan(x))"
   ],
   "metadata": {
    "collapsed": false
   }
  },
  {
   "cell_type": "markdown",
   "source": [
    "test element-wise for complex number, real number, scalar and non-scalar of a given array:"
   ],
   "metadata": {
    "collapsed": false
   }
  },
  {
   "cell_type": "code",
   "execution_count": 9,
   "outputs": [
    {
     "name": "stdout",
     "output_type": "stream",
     "text": [
      "[ True False False False False  True]\n",
      "[False  True  True  True  True False]\n",
      "True\n",
      "False\n"
     ]
    }
   ],
   "source": [
    "x = np.array([1+1j, 1+0j, 4.5, 3, 2, 2j])\n",
    "print(np.iscomplex(x))\n",
    "print(np.isreal(x))\n",
    "print(np.isscalar(3.1))\n",
    "print(np.isscalar([3.1]))"
   ],
   "metadata": {
    "collapsed": false
   }
  },
  {
   "cell_type": "markdown",
   "source": [
    "test whether two arrays are element-wise equal within a tolerance:"
   ],
   "metadata": {
    "collapsed": false
   }
  },
  {
   "cell_type": "code",
   "execution_count": 13,
   "outputs": [
    {
     "name": "stdout",
     "output_type": "stream",
     "text": [
      "x = [3 5]\n",
      "y = [2 5]\n",
      "[ True False]\n",
      "[ True  True]\n",
      "[False False]\n",
      "[False  True]\n"
     ]
    }
   ],
   "source": [
    "x = np.array([3, 5])\n",
    "y = np.array([2, 5])\n",
    "print('x =', x)\n",
    "print('y =', y)\n",
    "print(np.greater(x, y))\n",
    "print(np.greater_equal(x, y))\n",
    "print(np.less(x, y))\n",
    "print(np.less_equal(x, y))"
   ],
   "metadata": {
    "collapsed": false
   }
  },
  {
   "cell_type": "markdown",
   "source": [
    "create an element-wise comparison (equal, equal within a tolerance) of two given arrays:"
   ],
   "metadata": {
    "collapsed": false
   }
  },
  {
   "cell_type": "code",
   "execution_count": 14,
   "outputs": [
    {
     "name": "stdout",
     "output_type": "stream",
     "text": [
      "[ True  True  True  True  True  True  True  True  True False]\n",
      "True\n"
     ]
    }
   ],
   "source": [
    "x = np.array([72, 79, 85, 90, 150, -135, 120, -10, 60, 100])\n",
    "y = np.array([72, 79, 85, 90, 150, -135, 120, -10, 60, 100.000001])\n",
    "print(np.equal(x, y))\n",
    "print(np.allclose(x, y))"
   ],
   "metadata": {
    "collapsed": false
   }
  },
  {
   "cell_type": "markdown",
   "source": [
    "create an array with the values 1, 7, 13, 105 and determine the size of the memory occupied by the array:"
   ],
   "metadata": {
    "collapsed": false
   }
  },
  {
   "cell_type": "code",
   "execution_count": 21,
   "outputs": [
    {
     "name": "stdout",
     "output_type": "stream",
     "text": [
      "4 bytes\n",
      "8 bytes\n",
      "16 bytes\n",
      "32 bytes\n",
      "32 bytes\n",
      "32 bytes\n"
     ]
    }
   ],
   "source": [
    "x = np.array([1, 7, 13, 105], dtype=np.int8)\n",
    "print(f\"{x.size * x.itemsize} bytes\")\n",
    "x = np.array([1, 7, 13, 105], dtype=np.int16)\n",
    "print(f\"{x.size * x.itemsize} bytes\")\n",
    "x = np.array([1, 7, 13, 105], dtype=np.int32)\n",
    "print(f\"{x.size * x.itemsize} bytes\")\n",
    "x = np.array([1, 7, 13, 105], dtype=np.int64)\n",
    "print(f\"{x.size * x.itemsize} bytes\")\n",
    "x = np.array([1, 7, 13, 105], dtype=int)\n",
    "print(f\"{x.size * x.itemsize} bytes\")\n",
    "x = np.array([1, 7, 13, 105])\n",
    "print(f\"{x.size * x.itemsize} bytes\")"
   ],
   "metadata": {
    "collapsed": false
   }
  },
  {
   "cell_type": "markdown",
   "source": [
    "create an array of the integers from 30 to 70:"
   ],
   "metadata": {
    "collapsed": false
   }
  },
  {
   "cell_type": "code",
   "execution_count": 24,
   "outputs": [
    {
     "name": "stdout",
     "output_type": "stream",
     "text": [
      "[30 31 32 33 34 35 36 37 38 39 40 41 42 43 44 45 46 47 48 49 50 51 52 53\n",
      " 54 55 56 57 58 59 60 61 62 63 64 65 66 67 68 69 70]\n"
     ]
    }
   ],
   "source": [
    "x = np.arange(30, 71)\n",
    "print(x)"
   ],
   "metadata": {
    "collapsed": false
   }
  },
  {
   "cell_type": "markdown",
   "source": [
    "create an array of all the even integers from 30 to 70:"
   ],
   "metadata": {
    "collapsed": false
   }
  },
  {
   "cell_type": "code",
   "execution_count": 25,
   "outputs": [
    {
     "name": "stdout",
     "output_type": "stream",
     "text": [
      "[30 32 34 36 38 40 42 44 46 48 50 52 54 56 58 60 62 64 66 68 70]\n"
     ]
    }
   ],
   "source": [
    "x = np.arange(30, 71, 2)\n",
    "print(x)"
   ],
   "metadata": {
    "collapsed": false
   }
  },
  {
   "cell_type": "markdown",
   "source": [
    "crete a 3x3 identity matrix:"
   ],
   "metadata": {
    "collapsed": false
   }
  },
  {
   "cell_type": "code",
   "execution_count": 26,
   "outputs": [
    {
     "name": "stdout",
     "output_type": "stream",
     "text": [
      "[[1. 0. 0.]\n",
      " [0. 1. 0.]\n",
      " [0. 0. 1.]]\n"
     ]
    }
   ],
   "source": [
    "x = np.identity(3)\n",
    "print(x)"
   ],
   "metadata": {
    "collapsed": false
   }
  },
  {
   "cell_type": "markdown",
   "source": [
    "generate a random number between 0 and 1:"
   ],
   "metadata": {
    "collapsed": false
   }
  },
  {
   "cell_type": "code",
   "execution_count": 33,
   "outputs": [
    {
     "name": "stdout",
     "output_type": "stream",
     "text": [
      "[-0.82718934]\n"
     ]
    }
   ],
   "source": [
    "x = np.random.normal(0, 1, 1)\n",
    "print(x)"
   ],
   "metadata": {
    "collapsed": false
   }
  },
  {
   "cell_type": "markdown",
   "source": [
    "generate an array of 15 random numbers from a standard normal distribution:"
   ],
   "metadata": {
    "collapsed": false
   }
  },
  {
   "cell_type": "code",
   "execution_count": 37,
   "outputs": [
    {
     "name": "stdout",
     "output_type": "stream",
     "text": [
      "[-0.09678183 -0.14460664 -1.3205688  -0.02213477 -0.11845566  0.36294171\n",
      "  0.1381064  -0.10288028 -1.3022356   0.39691096 -0.13174823 -0.09698611\n",
      " -0.91499501  1.11887792 -0.09116528]\n"
     ]
    }
   ],
   "source": [
    "x = np.random.normal(0, 1, 15)\n",
    "print(x)"
   ],
   "metadata": {
    "collapsed": false
   }
  },
  {
   "cell_type": "markdown",
   "source": [
    "create a vector with values ranging from 15 to 55 and print all values except the first and last:"
   ],
   "metadata": {
    "collapsed": false
   }
  },
  {
   "cell_type": "code",
   "execution_count": 39,
   "outputs": [
    {
     "name": "stdout",
     "output_type": "stream",
     "text": [
      "[15 16 17 18 19 20 21 22 23 24 25 26 27 28 29 30 31 32 33 34 35 36 37 38\n",
      " 39 40 41 42 43 44 45 46 47 48 49 50 51 52 53 54 55]\n",
      "[16 17 18 19 20 21 22 23 24 25 26 27 28 29 30 31 32 33 34 35 36 37 38 39\n",
      " 40 41 42 43 44 45 46 47 48 49 50 51 52 53 54]\n"
     ]
    }
   ],
   "source": [
    "x = np.arange(15, 56)\n",
    "print(x)\n",
    "print(x[1:-1])"
   ],
   "metadata": {
    "collapsed": false
   }
  },
  {
   "cell_type": "markdown",
   "source": [
    "create a 3x4 array using and iterate over it:"
   ],
   "metadata": {
    "collapsed": false
   }
  },
  {
   "cell_type": "code",
   "execution_count": 40,
   "outputs": [
    {
     "name": "stdout",
     "output_type": "stream",
     "text": [
      "[[10 11 12 13]\n",
      " [14 15 16 17]\n",
      " [18 19 20 21]]\n",
      "10 11 12 13 14 15 16 17 18 19 20 21 "
     ]
    }
   ],
   "source": [
    "x = np.arange(10, 22).reshape((3, 4))\n",
    "print(x)\n",
    "for x in np.nditer(x):\n",
    "    print(x, end=' ')"
   ],
   "metadata": {
    "collapsed": false
   }
  },
  {
   "cell_type": "markdown",
   "source": [
    "create a vector of length 10 with values evenly distributed between 5 and 50:"
   ],
   "metadata": {
    "collapsed": false
   }
  },
  {
   "cell_type": "code",
   "execution_count": 42,
   "outputs": [
    {
     "name": "stdout",
     "output_type": "stream",
     "text": [
      "[ 5 10 15 20 25 30 35 40 45 50]\n"
     ]
    }
   ],
   "source": [
    "x = np.linspace(5, 50, 10, dtype=np.int64)\n",
    "print(x)"
   ],
   "metadata": {
    "collapsed": false
   }
  },
  {
   "cell_type": "markdown",
   "source": [
    "create a vector with values from 0 to 20 and change the sign of the numbers in the range from 9 to 15:"
   ],
   "metadata": {
    "collapsed": false
   }
  },
  {
   "cell_type": "code",
   "execution_count": 46,
   "outputs": [
    {
     "name": "stdout",
     "output_type": "stream",
     "text": [
      "[ 0  1  2  3  4  5  6  7  8  9 10 11 12 13 14 15 16 17 18 19 20]\n",
      "[  0   1   2   3   4   5   6   7   8  -9 -10 -11 -12 -13 -14 -15  16  17\n",
      "  18  19  20]\n"
     ]
    }
   ],
   "source": [
    "x = np.arange(21)\n",
    "print(x)\n",
    "x[(x >= 9) & (x <= 15)] *= -1\n",
    "print(x)"
   ],
   "metadata": {
    "collapsed": false
   }
  },
  {
   "cell_type": "markdown",
   "source": [
    "create a vector of length 20 filled with arbitrary integers from 0 to 10:"
   ],
   "metadata": {
    "collapsed": false
   }
  },
  {
   "cell_type": "code",
   "execution_count": 51,
   "outputs": [
    {
     "name": "stdout",
     "output_type": "stream",
     "text": [
      "[ 7  8  9 10  4  3  5  5  8  3  1  4  7  1  7  0  9  6  3  6]\n"
     ]
    }
   ],
   "source": [
    "x = np.random.randint(0, 11, 20)\n",
    "print(x)"
   ],
   "metadata": {
    "collapsed": false
   }
  },
  {
   "cell_type": "markdown",
   "source": [
    "multiply the values of two given vectors:"
   ],
   "metadata": {
    "collapsed": false
   }
  },
  {
   "cell_type": "code",
   "execution_count": 54,
   "outputs": [
    {
     "name": "stdout",
     "output_type": "stream",
     "text": [
      "[1 8 3 5]\n",
      "[ 9 10  5  9]\n",
      "[ 9 80 15 45]\n"
     ]
    }
   ],
   "source": [
    "x = np.array([1, 8, 3, 5])\n",
    "y = np.random.randint(0, 11, 4)\n",
    "print(x)\n",
    "print(y)\n",
    "print(x * y)"
   ],
   "metadata": {
    "collapsed": false
   }
  },
  {
   "cell_type": "markdown",
   "source": [
    "create a 3x4 matrix filled with values from 10 to 21:"
   ],
   "metadata": {
    "collapsed": false
   }
  },
  {
   "cell_type": "code",
   "execution_count": 55,
   "outputs": [
    {
     "name": "stdout",
     "output_type": "stream",
     "text": [
      "[[10 11 12 13]\n",
      " [14 15 16 17]\n",
      " [18 19 20 21]]\n"
     ]
    }
   ],
   "source": [
    "x = np.arange(10, 22).reshape((3, 4))\n",
    "print(x)"
   ],
   "metadata": {
    "collapsed": false
   }
  },
  {
   "cell_type": "markdown",
   "source": [],
   "metadata": {
    "collapsed": false
   }
  },
  {
   "cell_type": "markdown",
   "source": [
    "find the number of rows and columns of a given matrix:"
   ],
   "metadata": {
    "collapsed": false
   }
  },
  {
   "cell_type": "code",
   "execution_count": 56,
   "outputs": [
    {
     "name": "stdout",
     "output_type": "stream",
     "text": [
      "[[10 11 12 13]\n",
      " [14 15 16 17]\n",
      " [18 19 20 21]]\n",
      "(3, 4)\n"
     ]
    }
   ],
   "source": [
    "x = np.arange(10, 22).reshape((3, 4))\n",
    "print(x)\n",
    "print(x.shape)"
   ],
   "metadata": {
    "collapsed": false
   }
  },
  {
   "cell_type": "markdown",
   "source": [
    "create a 3x3 identity matrix, i.e. diagonal elements are 1, the rest are 0:"
   ],
   "metadata": {
    "collapsed": false
   }
  },
  {
   "cell_type": "code",
   "execution_count": 4,
   "outputs": [
    {
     "name": "stdout",
     "output_type": "stream",
     "text": [
      "[[1. 0. 0.]\n",
      " [0. 1. 0.]\n",
      " [0. 0. 1.]]\n",
      "[[0. 1. 0.]\n",
      " [0. 0. 1.]\n",
      " [0. 0. 0.]]\n"
     ]
    }
   ],
   "source": [
    "x = np.eye(3)\n",
    "print(x)\n",
    "x = np.eye(3, 3, k=1)\n",
    "print(x)"
   ],
   "metadata": {
    "collapsed": false
   }
  },
  {
   "cell_type": "markdown",
   "source": [
    "create a 10x10 matrix, in which the elements on the borders will be equal to 1, and inside 0:"
   ],
   "metadata": {
    "collapsed": false
   }
  },
  {
   "cell_type": "code",
   "execution_count": 5,
   "outputs": [
    {
     "name": "stdout",
     "output_type": "stream",
     "text": [
      "[[1. 1. 1. 1. 1. 1. 1. 1. 1. 1.]\n",
      " [1. 0. 0. 0. 0. 0. 0. 0. 0. 1.]\n",
      " [1. 0. 0. 0. 0. 0. 0. 0. 0. 1.]\n",
      " [1. 0. 0. 0. 0. 0. 0. 0. 0. 1.]\n",
      " [1. 0. 0. 0. 0. 0. 0. 0. 0. 1.]\n",
      " [1. 0. 0. 0. 0. 0. 0. 0. 0. 1.]\n",
      " [1. 0. 0. 0. 0. 0. 0. 0. 0. 1.]\n",
      " [1. 0. 0. 0. 0. 0. 0. 0. 0. 1.]\n",
      " [1. 0. 0. 0. 0. 0. 0. 0. 0. 1.]\n",
      " [1. 1. 1. 1. 1. 1. 1. 1. 1. 1.]]\n"
     ]
    }
   ],
   "source": [
    "x = np.ones((10, 10))\n",
    "x[1:-1, 1:-1] = 0\n",
    "print(x)"
   ],
   "metadata": {
    "collapsed": false
   }
  },
  {
   "cell_type": "markdown",
   "source": [
    "create a 6x6 zero matrix on the main diagonal equal to 1, 2, 3, 4, 5, 6."
   ],
   "metadata": {
    "collapsed": false
   }
  },
  {
   "cell_type": "code",
   "execution_count": 7,
   "outputs": [
    {
     "name": "stdout",
     "output_type": "stream",
     "text": [
      "[[1 0 0 0 0 0]\n",
      " [0 2 0 0 0 0]\n",
      " [0 0 3 0 0 0]\n",
      " [0 0 0 4 0 0]\n",
      " [0 0 0 0 5 0]\n",
      " [0 0 0 0 0 6]]\n"
     ]
    }
   ],
   "source": [
    "x = np.diag([1, 2, 3, 4, 5, 6])\n",
    "print(x)"
   ],
   "metadata": {
    "collapsed": false
   }
  },
  {
   "cell_type": "markdown",
   "source": [
    "create a 4x4 matrix in which 0 and 1 are staggered, with zeros on the main diagonal:"
   ],
   "metadata": {
    "collapsed": false
   }
  },
  {
   "cell_type": "code",
   "execution_count": 8,
   "outputs": [
    {
     "name": "stdout",
     "output_type": "stream",
     "text": [
      "[[0. 1. 0. 1.]\n",
      " [1. 0. 1. 0.]\n",
      " [0. 1. 0. 1.]\n",
      " [1. 0. 1. 0.]]\n"
     ]
    }
   ],
   "source": [
    "x = np.zeros((4, 4))\n",
    "x[::2, 1::2] = 1\n",
    "x[1::2, ::2] = 1\n",
    "print(x)"
   ],
   "metadata": {
    "collapsed": false
   }
  },
  {
   "cell_type": "markdown",
   "source": [
    "create 3x3x3 array filled with arbitrary values:"
   ],
   "metadata": {
    "collapsed": false
   }
  },
  {
   "cell_type": "code",
   "execution_count": 9,
   "outputs": [
    {
     "name": "stdout",
     "output_type": "stream",
     "text": [
      "[[[0.80400671 0.2558055  0.68005551]\n",
      "  [0.54473475 0.31833719 0.06234674]\n",
      "  [0.39672117 0.21634752 0.96041572]]\n",
      "\n",
      " [[0.61254246 0.81297335 0.04180561]\n",
      "  [0.88519863 0.15561544 0.75723037]\n",
      "  [0.52887822 0.63140534 0.5412635 ]]\n",
      "\n",
      " [[0.20757265 0.81321786 0.05694358]\n",
      "  [0.421413   0.43329164 0.15311266]\n",
      "  [0.04449784 0.94882377 0.65025274]]]\n"
     ]
    }
   ],
   "source": [
    "x = np.random.random((3, 3, 3))\n",
    "print(x)"
   ],
   "metadata": {
    "collapsed": false
   }
  },
  {
   "cell_type": "markdown",
   "source": [
    "compute sum of all elements, sum of each column and sum of each row of a given array:"
   ],
   "metadata": {
    "collapsed": false
   }
  },
  {
   "cell_type": "code",
   "execution_count": 10,
   "outputs": [
    {
     "name": "stdout",
     "output_type": "stream",
     "text": [
      "[[0 1]\n",
      " [2 3]]\n",
      "6\n",
      "[2 4]\n",
      "[1 5]\n"
     ]
    }
   ],
   "source": [
    "x = np.array([[0, 1], [2, 3]])\n",
    "print(x)\n",
    "print(np.sum(x))\n",
    "print(np.sum(x, axis=0))\n",
    "print(np.sum(x, axis=1))"
   ],
   "metadata": {
    "collapsed": false
   }
  },
  {
   "cell_type": "markdown",
   "source": [
    "compute the inner product of two given vectors:"
   ],
   "metadata": {
    "collapsed": false
   }
  },
  {
   "cell_type": "code",
   "execution_count": 11,
   "outputs": [
    {
     "name": "stdout",
     "output_type": "stream",
     "text": [
      "[4 5]\n",
      "[ 7 10]\n",
      "78\n"
     ]
    }
   ],
   "source": [
    "x = np.array([4, 5])\n",
    "y = np.array([7, 10])\n",
    "print(x)\n",
    "print(y)\n",
    "print(np.dot(x, y))"
   ],
   "metadata": {
    "collapsed": false
   }
  },
  {
   "cell_type": "markdown",
   "source": [
    "add a vector to each row of a given matrix:"
   ],
   "metadata": {
    "collapsed": false
   }
  },
  {
   "cell_type": "code",
   "execution_count": 14,
   "outputs": [
    {
     "name": "stdout",
     "output_type": "stream",
     "text": [
      "[[ 1  2  3]\n",
      " [ 4  5  6]\n",
      " [ 7  8  9]\n",
      " [10 11 12]]\n",
      "[1 1 0]\n",
      "[[ 2  3  3]\n",
      " [ 5  6  6]\n",
      " [ 8  9  9]\n",
      " [11 12 12]]\n"
     ]
    }
   ],
   "source": [
    "x = np.array([[1, 2, 3], [4, 5, 6], [7, 8, 9], [10, 11, 12]])\n",
    "y = np.array([1, 1, 0])\n",
    "print(x)\n",
    "print(y)\n",
    "print(np.add(x, y))"
   ],
   "metadata": {
    "collapsed": false
   }
  },
  {
   "cell_type": "markdown",
   "source": [
    "save a given array to a binary file:"
   ],
   "metadata": {
    "collapsed": false
   }
  },
  {
   "cell_type": "code",
   "execution_count": 18,
   "outputs": [
    {
     "name": "stdout",
     "output_type": "stream",
     "text": [
      "[ 0  1  2  3  4  5  6  7  8  9 10 11 12 13 14 15 16 17 18 19]\n",
      "[ 0  1  2  3  4  5  6  7  8  9 10 11 12 13 14 15 16 17 18 19]\n",
      "True\n"
     ]
    }
   ],
   "source": [
    "x = np.arange(20)\n",
    "np.save('arr.npy', x)\n",
    "if os.path.exists('arr.npy'):\n",
    "    x2 = np.load('arr.npy')\n",
    "    print(x2)\n",
    "    print(x)\n",
    "    print(np.array_equal(x, x2))"
   ],
   "metadata": {
    "collapsed": false
   }
  },
  {
   "cell_type": "markdown",
   "source": [
    "save two given arrays into a single file in compressed format (.npz format) and load it:"
   ],
   "metadata": {
    "collapsed": false
   }
  },
  {
   "cell_type": "code",
   "execution_count": 19,
   "outputs": [
    {
     "name": "stdout",
     "output_type": "stream",
     "text": [
      "[0 1 2 3 4 5 6 7 8 9]\n",
      "[11 12 13 14 15 16 17 18 19]\n",
      "[0 1 2 3 4 5 6 7 8 9]\n",
      "[11 12 13 14 15 16 17 18 19]\n"
     ]
    }
   ],
   "source": [
    "x = np.arange(10)\n",
    "y = np.arange(11, 20)\n",
    "print(x)\n",
    "print(y)\n",
    "np.savez('arr.npz', x=x, y=y)\n",
    "with np.load('arr.npz') as data:\n",
    "    print(data['x'])\n",
    "    print(data['y'])"
   ],
   "metadata": {
    "collapsed": false
   }
  },
  {
   "cell_type": "markdown",
   "source": [
    "save a given array to a text file and load it:"
   ],
   "metadata": {
    "collapsed": false
   }
  },
  {
   "cell_type": "code",
   "execution_count": 20,
   "outputs": [
    {
     "name": "stdout",
     "output_type": "stream",
     "text": [
      "[[ 0  1  2]\n",
      " [ 3  4  5]\n",
      " [ 6  7  8]\n",
      " [ 9 10 11]]\n",
      "[[ 0.  1.  2.]\n",
      " [ 3.  4.  5.]\n",
      " [ 6.  7.  8.]\n",
      " [ 9. 10. 11.]]\n"
     ]
    }
   ],
   "source": [
    "x = np.arange(12).reshape(4, 3)\n",
    "print(x)\n",
    "header = 'col1 col2 col3'\n",
    "np.savetxt('arr.txt', x, fmt='%d', header=header)\n",
    "r = np.loadtxt('arr.txt')\n",
    "print(r)"
   ],
   "metadata": {
    "collapsed": false
   }
  },
  {
   "cell_type": "markdown",
   "source": [
    "convert a given array into bytes, and load it as array:"
   ],
   "metadata": {
    "collapsed": false
   }
  },
  {
   "cell_type": "code",
   "execution_count": 21,
   "outputs": [
    {
     "name": "stdout",
     "output_type": "stream",
     "text": [
      "[1 2 3 4 5 6]\n",
      "[1 2 3 4 5 6]\n",
      "True\n"
     ]
    }
   ],
   "source": [
    "x = np.array([1, 2, 3, 4, 5, 6])\n",
    "print(x)\n",
    "x_bytes = x.tobytes()\n",
    "x2 = np.frombuffer(x_bytes, dtype=x.dtype)\n",
    "print(x2)\n",
    "print(np.array_equal(x, x2))"
   ],
   "metadata": {
    "collapsed": false
   }
  },
  {
   "cell_type": "markdown",
   "source": [
    "convert a given list into an array, then again convert it into a list. Check initial list and final list are equal or not:"
   ],
   "metadata": {
    "collapsed": false
   }
  },
  {
   "cell_type": "code",
   "execution_count": 22,
   "outputs": [
    {
     "name": "stdout",
     "output_type": "stream",
     "text": [
      "True\n",
      "False\n"
     ]
    }
   ],
   "source": [
    "a = [[1, 2], [3, 4]]\n",
    "x = np.array(a)\n",
    "a2 = x.tolist()\n",
    "print(a == a2)\n",
    "print(a is a2)"
   ],
   "metadata": {
    "collapsed": false
   }
  },
  {
   "cell_type": "markdown",
   "source": [
    "compute the x and y coordinates for points on a sine curve and plot the points using matplotlib:"
   ],
   "metadata": {
    "collapsed": false
   }
  },
  {
   "cell_type": "code",
   "execution_count": 33,
   "outputs": [
    {
     "name": "stdout",
     "output_type": "stream",
     "text": [
      "[ 0.   0.1  0.2  0.3  0.4  0.5  0.6  0.7  0.8  0.9  1.   1.1  1.2  1.3\n",
      "  1.4  1.5  1.6  1.7  1.8  1.9  2.   2.1  2.2  2.3  2.4  2.5  2.6  2.7\n",
      "  2.8  2.9  3.   3.1  3.2  3.3  3.4  3.5  3.6  3.7  3.8  3.9  4.   4.1\n",
      "  4.2  4.3  4.4  4.5  4.6  4.7  4.8  4.9  5.   5.1  5.2  5.3  5.4  5.5\n",
      "  5.6  5.7  5.8  5.9  6.   6.1  6.2  6.3  6.4  6.5  6.6  6.7  6.8  6.9\n",
      "  7.   7.1  7.2  7.3  7.4  7.5  7.6  7.7  7.8  7.9  8.   8.1  8.2  8.3\n",
      "  8.4  8.5  8.6  8.7  8.8  8.9  9.   9.1  9.2  9.3  9.4  9.5  9.6  9.7\n",
      "  9.8  9.9 10.  10.1 10.2 10.3 10.4 10.5 10.6 10.7 10.8 10.9 11.  11.1\n",
      " 11.2 11.3 11.4 11.5 11.6 11.7 11.8 11.9 12.  12.1 12.2 12.3 12.4 12.5\n",
      " 12.6 12.7 12.8 12.9 13.  13.1 13.2 13.3 13.4 13.5 13.6 13.7 13.8 13.9\n",
      " 14.  14.1 14.2 14.3 14.4 14.5 14.6 14.7 14.8 14.9 15.  15.1 15.2 15.3\n",
      " 15.4 15.5 15.6 15.7 15.8 15.9 16.  16.1 16.2 16.3 16.4 16.5 16.6 16.7\n",
      " 16.8 16.9 17.  17.1 17.2 17.3 17.4 17.5 17.6 17.7 17.8 17.9 18.  18.1\n",
      " 18.2 18.3 18.4 18.5 18.6 18.7 18.8]\n",
      "[ 0.          0.09983342  0.19866933  0.29552021  0.38941834  0.47942554\n",
      "  0.56464247  0.64421769  0.71735609  0.78332691  0.84147098  0.89120736\n",
      "  0.93203909  0.96355819  0.98544973  0.99749499  0.9995736   0.99166481\n",
      "  0.97384763  0.94630009  0.90929743  0.86320937  0.8084964   0.74570521\n",
      "  0.67546318  0.59847214  0.51550137  0.42737988  0.33498815  0.23924933\n",
      "  0.14112001  0.04158066 -0.05837414 -0.15774569 -0.2555411  -0.35078323\n",
      " -0.44252044 -0.52983614 -0.61185789 -0.68776616 -0.7568025  -0.81827711\n",
      " -0.87157577 -0.91616594 -0.95160207 -0.97753012 -0.993691   -0.99992326\n",
      " -0.99616461 -0.98245261 -0.95892427 -0.92581468 -0.88345466 -0.83226744\n",
      " -0.77276449 -0.70554033 -0.63126664 -0.55068554 -0.46460218 -0.37387666\n",
      " -0.2794155  -0.1821625  -0.0830894   0.0168139   0.1165492   0.21511999\n",
      "  0.31154136  0.40484992  0.49411335  0.57843976  0.6569866   0.72896904\n",
      "  0.79366786  0.85043662  0.8987081   0.93799998  0.96791967  0.98816823\n",
      "  0.99854335  0.99894134  0.98935825  0.96988981  0.94073056  0.90217183\n",
      "  0.85459891  0.79848711  0.7343971   0.66296923  0.58491719  0.50102086\n",
      "  0.41211849  0.31909836  0.22288991  0.12445442  0.02477543 -0.07515112\n",
      " -0.17432678 -0.27176063 -0.36647913 -0.45753589 -0.54402111 -0.62507065\n",
      " -0.69987469 -0.76768581 -0.82782647 -0.87969576 -0.92277542 -0.95663502\n",
      " -0.98093623 -0.99543625 -0.99999021 -0.99455259 -0.97917773 -0.95401925\n",
      " -0.91932853 -0.87545217 -0.82282859 -0.76198358 -0.69352508 -0.61813711\n",
      " -0.53657292 -0.44964746 -0.35822928 -0.26323179 -0.16560418 -0.0663219\n",
      "  0.03362305  0.13323204  0.23150983  0.32747444  0.42016704  0.50866146\n",
      "  0.59207351  0.66956976  0.74037589  0.80378443  0.85916181  0.90595474\n",
      "  0.94369567  0.9720075   0.99060736  0.99930939  0.99802665  0.98677196\n",
      "  0.96565778  0.93489506  0.89479117  0.84574683  0.78825207  0.72288135\n",
      "  0.65028784  0.57119687  0.48639869  0.39674057  0.30311836  0.20646748\n",
      "  0.10775365  0.00796318 -0.09190685 -0.19085858 -0.28790332 -0.38207142\n",
      " -0.47242199 -0.55805227 -0.63810668 -0.71178534 -0.77835208 -0.83714178\n",
      " -0.88756703 -0.92912401 -0.96139749 -0.98406501 -0.99690007 -0.99977443\n",
      " -0.99265938 -0.97562601 -0.9488445  -0.91258245 -0.86720218 -0.81315711\n",
      " -0.75098725 -0.68131377 -0.60483282 -0.52230859 -0.43456562 -0.34248062\n",
      " -0.24697366 -0.14899903 -0.04953564]\n"
     ]
    },
    {
     "data": {
      "text/plain": "<Figure size 640x480 with 1 Axes>",
      "image/png": "[encoded data removed]"
     },
     "metadata": {},
     "output_type": "display_data"
    }
   ],
   "source": [
    "x = np.arange(0, 6 * np.pi, 0.1)\n",
    "y = np.sin(x)\n",
    "print(x)\n",
    "print(y)\n",
    "plt.plot(x, y)\n",
    "plt.show()"
   ],
   "metadata": {
    "collapsed": false
   }
  },
  {
   "cell_type": "markdown",
   "source": [
    "convert numpy dtypes to native python types:"
   ],
   "metadata": {
    "collapsed": false
   }
  },
  {
   "cell_type": "code",
   "execution_count": 35,
   "outputs": [
    {
     "name": "stdout",
     "output_type": "stream",
     "text": [
      "<class 'numpy.float64'>\n",
      "<class 'float'>\n"
     ]
    }
   ],
   "source": [
    "x = np.float64(0)\n",
    "print(type(x))\n",
    "pyval = x.item()\n",
    "print(type(pyval))"
   ],
   "metadata": {
    "collapsed": false
   }
  },
  {
   "cell_type": "markdown",
   "source": [
    "add elements in a matrix. If an element in the matrix is 0, we will not add the element below this element:"
   ],
   "metadata": {
    "collapsed": false
   }
  },
  {
   "cell_type": "code",
   "execution_count": 36,
   "outputs": [
    {
     "name": "stdout",
     "output_type": "stream",
     "text": [
      "[[1 1 0 2]\n",
      " [0 3 0 3]\n",
      " [1 0 4 4]]\n",
      "14\n"
     ]
    }
   ],
   "source": [
    "def sum_matrix_elements(arr):\n",
    "    element_sum = 0\n",
    "    for p in range(len(arr)):\n",
    "        for q in range(len(arr[p])):\n",
    "            if arr[p][q] == 0 and p < len(arr) - 1:\n",
    "                arr[p+1][q] = 0\n",
    "            element_sum += arr[p][q]\n",
    "    return element_sum\n",
    "\n",
    "m = np.array([\n",
    "    [1, 1, 0, 2],\n",
    "    [0, 3, 0, 3],\n",
    "    [1, 0, 4, 4]\n",
    "])\n",
    "print(m)\n",
    "print(sum_matrix_elements(m))"
   ],
   "metadata": {
    "collapsed": false
   }
  },
  {
   "cell_type": "markdown",
   "source": [
    "find the missing data in a given array:"
   ],
   "metadata": {
    "collapsed": false
   }
  },
  {
   "cell_type": "code",
   "execution_count": 37,
   "outputs": [
    {
     "name": "stdout",
     "output_type": "stream",
     "text": [
      "[[ 3.  2. nan  1.]\n",
      " [10. 12. 10.  9.]\n",
      " [ 5. nan  1. nan]]\n",
      "[[False False  True False]\n",
      " [False False False False]\n",
      " [False  True False  True]]\n"
     ]
    }
   ],
   "source": [
    "nums = np.array([\n",
    "    [3, 2, np.nan, 1],\n",
    "    [10, 12, 10, 9],\n",
    "    [5, np.nan, 1, np.nan]\n",
    "])\n",
    "print(nums)\n",
    "print(np.isnan(nums))"
   ],
   "metadata": {
    "collapsed": false
   }
  },
  {
   "cell_type": "markdown",
   "source": [
    "check two arrays are equal (element wise) or not"
   ],
   "metadata": {
    "collapsed": false
   }
  },
  {
   "cell_type": "code",
   "execution_count": 42,
   "outputs": [
    {
     "name": "stdout",
     "output_type": "stream",
     "text": [
      "[0.5 1.5 0.2]\n",
      "[0.4999999999 1.5          0.2         ]\n",
      "[False  True  True]\n",
      "[False  True  True]\n"
     ]
    }
   ],
   "source": [
    "a1 = np.array([0.5, 1.5, 0.2])\n",
    "a2 = np.array([0.4999999999, 1.500000000, 0.2])\n",
    "np.set_printoptions(precision=15)\n",
    "print(a1)\n",
    "print(a2)\n",
    "\n",
    "print(a1 == a2)\n",
    "print(np.equal(a1, a2))"
   ],
   "metadata": {
    "collapsed": false
   }
  },
  {
   "cell_type": "markdown",
   "source": [
    "create one-dimensional array of single, two and three digits:"
   ],
   "metadata": {
    "collapsed": false
   }
  },
  {
   "cell_type": "code",
   "execution_count": 44,
   "outputs": [
    {
     "name": "stdout",
     "output_type": "stream",
     "text": [
      "[0 1 2 3 4 5 6 7 8 9]\n",
      "[10 11 12 13 14 15 16 17 18 19 20 21 22 23 24 25 26 27 28 29 30 31 32 33\n",
      " 34 35 36 37 38 39 40 41 42 43 44 45 46 47 48 49 50 51 52 53 54 55 56 57\n",
      " 58 59 60 61 62 63 64 65 66 67 68 69 70 71 72 73 74 75 76 77 78 79 80 81\n",
      " 82 83 84 85 86 87 88 89 90 91 92 93 94 95 96 97 98 99]\n",
      "[100 101 102 103 104 105 106 107 108 109 110 111 112 113 114 115 116 117\n",
      " 118 119 120 121 122 123 124 125 126 127 128 129 130 131 132 133 134 135\n",
      " 136 137 138 139 140 141 142 143 144 145 146 147 148 149 150 151 152 153\n",
      " 154 155 156 157 158 159 160 161 162 163 164 165 166 167 168 169 170 171\n",
      " 172 173 174 175 176 177 178 179 180 181 182 183 184 185 186 187 188 189\n",
      " 190 191 192 193 194 195 196 197 198 199 200 201 202 203 204 205 206 207\n",
      " 208 209 210 211 212 213 214 215 216 217 218 219 220 221 222 223 224 225\n",
      " 226 227 228 229 230 231 232 233 234 235 236 237 238 239 240 241 242 243\n",
      " 244 245 246 247 248 249 250 251 252 253 254 255 256 257 258 259 260 261\n",
      " 262 263 264 265 266 267 268 269 270 271 272 273 274 275 276 277 278 279\n",
      " 280 281 282 283 284 285 286 287 288 289 290 291 292 293 294 295 296 297\n",
      " 298 299 300 301 302 303 304 305 306 307 308 309 310 311 312 313 314 315\n",
      " 316 317 318 319 320 321 322 323 324 325 326 327 328 329 330 331 332 333\n",
      " 334 335 336 337 338 339 340 341 342 343 344 345 346 347 348 349 350 351\n",
      " 352 353 354 355 356 357 358 359 360 361 362 363 364 365 366 367 368 369\n",
      " 370 371 372 373 374 375 376 377 378 379 380 381 382 383 384 385 386 387\n",
      " 388 389 390 391 392 393 394 395 396 397 398 399 400 401 402 403 404 405\n",
      " 406 407 408 409 410 411 412 413 414 415 416 417 418 419 420 421 422 423\n",
      " 424 425 426 427 428 429 430 431 432 433 434 435 436 437 438 439 440 441\n",
      " 442 443 444 445 446 447 448 449 450 451 452 453 454 455 456 457 458 459\n",
      " 460 461 462 463 464 465 466 467 468 469 470 471 472 473 474 475 476 477\n",
      " 478 479 480 481 482 483 484 485 486 487 488 489 490 491 492 493 494 495\n",
      " 496 497 498 499 500 501 502 503 504 505 506 507 508 509 510 511 512 513\n",
      " 514 515 516 517 518 519 520 521 522 523 524 525 526 527 528 529 530 531\n",
      " 532 533 534 535 536 537 538 539 540 541 542 543 544 545 546 547 548 549\n",
      " 550 551 552 553 554 555 556 557 558 559 560 561 562 563 564 565 566 567\n",
      " 568 569 570 571 572 573 574 575 576 577 578 579 580 581 582 583 584 585\n",
      " 586 587 588 589 590 591 592 593 594 595 596 597 598 599 600 601 602 603\n",
      " 604 605 606 607 608 609 610 611 612 613 614 615 616 617 618 619 620 621\n",
      " 622 623 624 625 626 627 628 629 630 631 632 633 634 635 636 637 638 639\n",
      " 640 641 642 643 644 645 646 647 648 649 650 651 652 653 654 655 656 657\n",
      " 658 659 660 661 662 663 664 665 666 667 668 669 670 671 672 673 674 675\n",
      " 676 677 678 679 680 681 682 683 684 685 686 687 688 689 690 691 692 693\n",
      " 694 695 696 697 698 699 700 701 702 703 704 705 706 707 708 709 710 711\n",
      " 712 713 714 715 716 717 718 719 720 721 722 723 724 725 726 727 728 729\n",
      " 730 731 732 733 734 735 736 737 738 739 740 741 742 743 744 745 746 747\n",
      " 748 749 750 751 752 753 754 755 756 757 758 759 760 761 762 763 764 765\n",
      " 766 767 768 769 770 771 772 773 774 775 776 777 778 779 780 781 782 783\n",
      " 784 785 786 787 788 789 790 791 792 793 794 795 796 797 798 799 800 801\n",
      " 802 803 804 805 806 807 808 809 810 811 812 813 814 815 816 817 818 819\n",
      " 820 821 822 823 824 825 826 827 828 829 830 831 832 833 834 835 836 837\n",
      " 838 839 840 841 842 843 844 845 846 847 848 849 850 851 852 853 854 855\n",
      " 856 857 858 859 860 861 862 863 864 865 866 867 868 869 870 871 872 873\n",
      " 874 875 876 877 878 879 880 881 882 883 884 885 886 887 888 889 890 891\n",
      " 892 893 894 895 896 897 898 899 900 901 902 903 904 905 906 907 908 909\n",
      " 910 911 912 913 914 915 916 917 918 919 920 921 922 923 924 925 926 927\n",
      " 928 929 930 931 932 933 934 935 936 937 938 939 940 941 942 943 944 945\n",
      " 946 947 948 949 950 951 952 953 954 955 956 957 958 959 960 961 962 963\n",
      " 964 965 966 967 968 969 970 971 972 973 974 975 976 977 978 979 980 981\n",
      " 982 983 984 985 986 987 988 989 990 991 992 993 994 995 996 997 998 999]\n"
     ]
    }
   ],
   "source": [
    "print(np.arange(0, 10))\n",
    "print(np.arange(10, 100))\n",
    "print(np.arange(100, 1000))"
   ],
   "metadata": {
    "collapsed": false
   }
  },
  {
   "cell_type": "code",
   "execution_count": 45,
   "outputs": [
    {
     "name": "stdout",
     "output_type": "stream",
     "text": [
      "[[  1   2   3   4   5   6   7   8   9  10]\n",
      " [ 11  12  13  14  15  16  17  18  19  20]\n",
      " [ 21  22  23  24  25  26  27  28  29  30]\n",
      " [ 31  32  33  34  35  36  37  38  39  40]\n",
      " [ 41  42  43  44  45  46  47  48  49  50]\n",
      " [ 51  52  53  54  55  56  57  58  59  60]\n",
      " [ 61  62  63  64  65  66  67  68  69  70]\n",
      " [ 71  72  73  74  75  76  77  78  79  80]\n",
      " [ 81  82  83  84  85  86  87  88  89  90]\n",
      " [ 91  92  93  94  95  96  97  98  99 100]\n",
      " [101 102 103 104 105 106 107 108 109 110]\n",
      " [111 112 113 114 115 116 117 118 119 120]\n",
      " [121 122 123 124 125 126 127 128 129 130]\n",
      " [131 132 133 134 135 136 137 138 139 140]\n",
      " [141 142 143 144 145 146 147 148 149 150]]\n"
     ]
    }
   ],
   "source": [
    "print(np.arange(1, 151).reshape((15, 10)))"
   ],
   "metadata": {
    "collapsed": false
   }
  },
  {
   "cell_type": "markdown",
   "source": [
    "create a two-dimensional array of numbers from 1 to 150(ten numbers in one sub-array):"
   ],
   "metadata": {
    "collapsed": false
   }
  },
  {
   "cell_type": "code",
   "execution_count": 46,
   "outputs": [
    {
     "name": "stdout",
     "output_type": "stream",
     "text": [
      "[[  1   2   3   4   5   6   7   8   9  10]\n",
      " [ 11  12  13  14  15  16  17  18  19  20]\n",
      " [ 21  22  23  24  25  26  27  28  29  30]\n",
      " [ 31  32  33  34  35  36  37  38  39  40]\n",
      " [ 41  42  43  44  45  46  47  48  49  50]\n",
      " [ 51  52  53  54  55  56  57  58  59  60]\n",
      " [ 61  62  63  64  65  66  67  68  69  70]\n",
      " [ 71  72  73  74  75  76  77  78  79  80]\n",
      " [ 81  82  83  84  85  86  87  88  89  90]\n",
      " [ 91  92  93  94  95  96  97  98  99 100]\n",
      " [101 102 103 104 105 106 107 108 109 110]\n",
      " [111 112 113 114 115 116 117 118 119 120]\n",
      " [121 122 123 124 125 126 127 128 129 130]\n",
      " [131 132 133 134 135 136 137 138 139 140]\n",
      " [141 142 143 144 145 146 147 148 149 150]]\n"
     ]
    }
   ],
   "source": [
    "print(np.arange(1, 151).reshape((-1, 10)))"
   ],
   "metadata": {
    "collapsed": false
   }
  },
  {
   "cell_type": "code",
   "execution_count": 47,
   "outputs": [
    {
     "name": "stdout",
     "output_type": "stream",
     "text": [
      "[[  1   2   3   4   5   6   7   8   9  10]\n",
      " [ 11  12  13  14  15  16  17  18  19  20]\n",
      " [ 21  22  23  24  25  26  27  28  29  30]\n",
      " [ 31  32  33  34  35  36  37  38  39  40]\n",
      " [ 41  42  43  44  45  46  47  48  49  50]\n",
      " [ 51  52  53  54  55  56  57  58  59  60]\n",
      " [ 61  62  63  64  65  66  67  68  69  70]\n",
      " [ 71  72  73  74  75  76  77  78  79  80]\n",
      " [ 81  82  83  84  85  86  87  88  89  90]\n",
      " [ 91  92  93  94  95  96  97  98  99 100]\n",
      " [101 102 103 104 105 106 107 108 109 110]\n",
      " [111 112 113 114 115 116 117 118 119 120]\n",
      " [121 122 123 124 125 126 127 128 129 130]\n",
      " [131 132 133 134 135 136 137 138 139 140]\n",
      " [141 142 143 144 145 146 147 148 149 150]]\n"
     ]
    }
   ],
   "source": [
    "print(np.arange(1, 151).reshape((15, -1)))"
   ],
   "metadata": {
    "collapsed": false
   }
  },
  {
   "cell_type": "markdown",
   "source": [
    "create a one dimensional array of forty pseudo-randomly generated values. Select random numbers from a uniform distribution between 0 and 1:"
   ],
   "metadata": {
    "collapsed": false
   }
  },
  {
   "cell_type": "code",
   "execution_count": 72,
   "outputs": [
    {
     "name": "stdout",
     "output_type": "stream",
     "text": [
      "[0.858698016318338 0.302553695110853 0.113076108309054 0.530350707613785\n",
      " 0.121951401706222 0.679345020966323 0.033340172514833 0.84771378227322\n",
      " 0.12114318485155  0.084802779790953 0.009135656323791 0.21159883666774\n",
      " 0.754333235578371 0.907456264242925 0.652749674812956 0.048036191984765\n",
      " 0.0350640596327   0.291088796928714 0.658325148495483 0.396244892999222\n",
      " 0.691979249753013 0.528324737616047 0.428427871778697 0.742590589923649\n",
      " 0.363373842689045 0.214834956030476 0.137063378129579 0.447611726817695\n",
      " 0.059534851586612 0.489360867256601 0.362094741923912 0.68303176124865\n",
      " 0.952264602324319 0.149214375797883 0.398839784311696 0.16026206656674\n",
      " 0.058283337911949 0.751330138427541 0.15396420249839  0.522045603623853]\n"
     ]
    }
   ],
   "source": [
    "print(np.random.rand(40))"
   ],
   "metadata": {
    "collapsed": false
   }
  },
  {
   "cell_type": "markdown",
   "source": [
    "create a two-dimensional array with shape (8, 5) of random numbers. Select random numbers from a normal distribution (200, 7)"
   ],
   "metadata": {
    "collapsed": false
   }
  },
  {
   "cell_type": "code",
   "execution_count": 73,
   "outputs": [
    {
     "name": "stdout",
     "output_type": "stream",
     "text": [
      "[[204.00130304575634 197.83407754226837 191.34669421709813\n",
      "  214.97463252265308 209.54001195953384]\n",
      " [196.5908099533241  194.97329187887632 190.45620045347638\n",
      "  191.54492333033903 201.4853664169163 ]\n",
      " [179.33450134734687 192.49112738447468 201.52357596906492\n",
      "  214.02427058298014 209.75293792214188]\n",
      " [189.08094078455363 208.9555054714837  192.61516691233933\n",
      "  197.53890992027678 193.82516710321516]\n",
      " [196.6342311925097  193.42173647834974 196.33656894829028\n",
      "  200.3971673545193  189.75959059659482]\n",
      " [208.70051470068265 194.7793620008444  195.14095113201665\n",
      "  206.99710200545567 202.20316904251953]\n",
      " [209.9436413238436  192.08377109277794 208.35587850981176\n",
      "  210.83405151812173 192.6508295749408 ]\n",
      " [193.3767708146572  200.37051551489907 200.1378856725823\n",
      "  206.17736194265927 198.81776734634113]]\n"
     ]
    }
   ],
   "source": [
    "print(np.random.normal(200, 7, (8, 5)))"
   ],
   "metadata": {
    "collapsed": false
   }
  },
  {
   "cell_type": "markdown",
   "source": [
    "generate a uniform, non-uniform random sample from a given 1-D array with and without replacement:"
   ],
   "metadata": {
    "collapsed": false
   }
  },
  {
   "cell_type": "code",
   "execution_count": 82,
   "outputs": [
    {
     "name": "stdout",
     "output_type": "stream",
     "text": [
      "[1 2 2 0 2]\n",
      "[4 5 2 6 0]\n",
      "[3 4 3 6 0]\n",
      "[4 1 3 0 6]\n"
     ]
    }
   ],
   "source": [
    "print(np.random.choice(7, 5))\n",
    "print(np.random.choice(7, 5, replace=False))\n",
    "\n",
    "print(np.random.choice(7, 5, p=[0.1, 0.2, 0, 0.2, 0.4, 0, 0.1]))\n",
    "print(np.random.choice(7, 5, replace=False, p=[0.1, 0.2, 0, 0.2, 0.4, 0, 0.1]))"
   ],
   "metadata": {
    "collapsed": false
   }
  },
  {
   "cell_type": "markdown",
   "source": [
    "create a 4x4 array with random values, now create a new array from the said array swapping first and last rows:"
   ],
   "metadata": {
    "collapsed": false
   }
  },
  {
   "cell_type": "code",
   "execution_count": 83,
   "outputs": [
    {
     "name": "stdout",
     "output_type": "stream",
     "text": [
      "[[ 0  1  2  3]\n",
      " [ 4  5  6  7]\n",
      " [ 8  9 10 11]\n",
      " [12 13 14 15]]\n",
      "[[12 13 14 15]\n",
      " [ 4  5  6  7]\n",
      " [ 8  9 10 11]\n",
      " [ 0  1  2  3]]\n"
     ]
    }
   ],
   "source": [
    "a = np.arange(16, dtype='int').reshape((-1, 4))\n",
    "print(a)\n",
    "\n",
    "a[[0,-1], :] = a[[-1,0], :]\n",
    "print(a)"
   ],
   "metadata": {
    "collapsed": false
   }
  },
  {
   "cell_type": "markdown",
   "source": [
    "create a 4x4 array with random values, now create a new array from the said array swapping first and last, second and third columns:"
   ],
   "metadata": {
    "collapsed": false
   }
  },
  {
   "cell_type": "code",
   "execution_count": 92,
   "outputs": [
    {
     "name": "stdout",
     "output_type": "stream",
     "text": [
      "[[ 0  1  2  3]\n",
      " [ 4  5  6  7]\n",
      " [ 8  9 10 11]\n",
      " [12 13 14 15]]\n",
      "[[ 3  2  1  0]\n",
      " [ 7  6  5  4]\n",
      " [11 10  9  8]\n",
      " [15 14 13 12]]\n"
     ]
    }
   ],
   "source": [
    "a = np.arange(16, dtype='int').reshape((-1, 4))\n",
    "print(a)\n",
    "\n",
    "print(a[:, ::-1])"
   ],
   "metadata": {
    "collapsed": false
   }
  },
  {
   "cell_type": "markdown",
   "source": [
    "create a new array of given shape (5, 6) and type, filled with zeros:"
   ],
   "metadata": {
    "collapsed": false
   }
  },
  {
   "cell_type": "code",
   "execution_count": 84,
   "outputs": [
    {
     "name": "stdout",
     "output_type": "stream",
     "text": [
      "[[0 0 0 0 0 0]\n",
      " [0 0 0 0 0 0]\n",
      " [0 0 0 0 0 0]\n",
      " [0 0 0 0 0 0]\n",
      " [0 0 0 0 0 0]]\n",
      "[[3 0 3 0 3 0]\n",
      " [7 0 7 0 7 0]\n",
      " [3 0 3 0 3 0]\n",
      " [7 0 7 0 7 0]\n",
      " [3 0 3 0 3 0]]\n"
     ]
    }
   ],
   "source": [
    "a = np.zeros(shape=(5, 6), dtype='int')\n",
    "print(a)\n",
    "\n",
    "a[::2, ::2] = 3\n",
    "a[1::2, ::2] = 7\n",
    "print(a)"
   ],
   "metadata": {
    "collapsed": false
   }
  },
  {
   "cell_type": "markdown",
   "source": [
    "sort a given array by row and column is ascending order:"
   ],
   "metadata": {
    "collapsed": false
   }
  },
  {
   "cell_type": "code",
   "execution_count": 86,
   "outputs": [
    {
     "name": "stdout",
     "output_type": "stream",
     "text": [
      "[[5.54 3.38 7.99]\n",
      " [3.54 4.38 6.99]\n",
      " [1.54 2.39 9.29]]\n",
      "[[3.38 5.54 7.99]\n",
      " [3.54 4.38 6.99]\n",
      " [1.54 2.39 9.29]]\n",
      "[[1.54 2.39 6.99]\n",
      " [3.54 3.38 7.99]\n",
      " [5.54 4.38 9.29]]\n",
      "[[3.38 5.54 7.99]\n",
      " [3.54 4.38 6.99]\n",
      " [1.54 2.39 9.29]]\n"
     ]
    }
   ],
   "source": [
    "a = np.array([\n",
    "    [5.54, 3.38, 7.99],\n",
    "    [3.54, 4.38, 6.99],\n",
    "    [1.54, 2.39, 9.29]\n",
    "])\n",
    "print(a)\n",
    "\n",
    "print(np.sort(a))\n",
    "print(np.sort(a, axis=0))\n",
    "print(np.sort(a, axis=1))"
   ],
   "metadata": {
    "collapsed": false
   }
  },
  {
   "cell_type": "markdown",
   "source": [
    "extract all numbers from a given array which are less and greater than a specified number:"
   ],
   "metadata": {
    "collapsed": false
   }
  },
  {
   "cell_type": "code",
   "execution_count": 87,
   "outputs": [
    {
     "name": "stdout",
     "output_type": "stream",
     "text": [
      "[[5.54 3.38 7.99]\n",
      " [3.54 4.38 6.99]\n",
      " [1.54 2.39 9.29]]\n",
      "[5.54 7.99 6.99 9.29]\n",
      "[3.38 3.54 1.54 2.39]\n"
     ]
    }
   ],
   "source": [
    "a = np.array([\n",
    "    [5.54, 3.38, 7.99],\n",
    "    [3.54, 4.38, 6.99],\n",
    "    [1.54, 2.39, 9.29]\n",
    "])\n",
    "print(a)\n",
    "\n",
    "print(a[a > 5])\n",
    "print(a[a < 4])"
   ],
   "metadata": {
    "collapsed": false
   }
  },
  {
   "cell_type": "markdown",
   "source": [
    "replace all numbers if a given array which is equal, less and greater to a given number:"
   ],
   "metadata": {
    "collapsed": false
   }
  },
  {
   "cell_type": "code",
   "execution_count": 88,
   "outputs": [
    {
     "name": "stdout",
     "output_type": "stream",
     "text": [
      "[[5 3 7]\n",
      " [3 4 6]\n",
      " [1 2 9]]\n",
      "[[ 5 10  7]\n",
      " [10  4  6]\n",
      " [ 1  2  9]]\n",
      "[[ 5  3  7]\n",
      " [ 3  4  6]\n",
      " [10 10  9]]\n",
      "[[10  3 10]\n",
      " [ 3 10 10]\n",
      " [ 1  2 10]]\n"
     ]
    }
   ],
   "source": [
    "a = np.array([\n",
    "    [5, 3, 7],\n",
    "    [3, 4, 6],\n",
    "    [1, 2, 9],\n",
    "])\n",
    "print(a)\n",
    "n = 3\n",
    "r = 10\n",
    "print(np.where(a == n, r, a))\n",
    "print(np.where(a < n, r, a))\n",
    "print(np.where(a > n, r, a))"
   ],
   "metadata": {
    "collapsed": false
   }
  },
  {
   "cell_type": "markdown",
   "source": [
    "create an array of equal shape and data type of given array:"
   ],
   "metadata": {
    "collapsed": false
   }
  },
  {
   "cell_type": "code",
   "execution_count": 89,
   "outputs": [
    {
     "name": "stdout",
     "output_type": "stream",
     "text": [
      "[[5 3 7]\n",
      " [3 4 6]\n",
      " [1 2 9]]\n",
      "[[0 0 0]\n",
      " [0 0 0]\n",
      " [0 0 0]]\n"
     ]
    }
   ],
   "source": [
    "a = np.array([\n",
    "    [5, 3, 7],\n",
    "    [3, 4, 6],\n",
    "    [1, 2, 9],\n",
    "])\n",
    "print(a)\n",
    "print(np.zeros_like(a))"
   ],
   "metadata": {
    "collapsed": false
   }
  },
  {
   "cell_type": "markdown",
   "source": [
    "create a tree-dimension array with shape (3, 5, 4) and set to a variable:"
   ],
   "metadata": {
    "collapsed": false
   }
  },
  {
   "cell_type": "code",
   "execution_count": 91,
   "outputs": [
    {
     "name": "stdout",
     "output_type": "stream",
     "text": [
      "[[[1 5 2 1]\n",
      "  [4 3 5 6]\n",
      "  [6 3 0 6]\n",
      "  [7 3 5 0]\n",
      "  [2 3 3 5]]\n",
      "\n",
      " [[2 2 3 1]\n",
      "  [4 0 0 5]\n",
      "  [6 3 2 1]\n",
      "  [5 1 0 0]\n",
      "  [0 1 9 1]]\n",
      "\n",
      " [[3 1 4 2]\n",
      "  [4 1 6 0]\n",
      "  [1 2 0 6]\n",
      "  [8 3 4 0]\n",
      "  [2 0 2 8]]]\n"
     ]
    }
   ],
   "source": [
    "a = np.array([\n",
    "    [\n",
    "        [1, 5, 2, 1],\n",
    "        [4, 3, 5, 6],\n",
    "        [6, 3, 0, 6],\n",
    "        [7, 3, 5, 0],\n",
    "        [2, 3, 3, 5],\n",
    "    ],\n",
    "    [\n",
    "        [2, 2, 3, 1],\n",
    "        [4, 0, 0, 5],\n",
    "        [6, 3, 2, 1],\n",
    "        [5, 1, 0, 0],\n",
    "        [0, 1, 9, 1],\n",
    "    ],\n",
    "    [\n",
    "        [3, 1, 4, 2],\n",
    "        [4, 1, 6, 0],\n",
    "        [1, 2, 0, 6],\n",
    "        [8, 3, 4, 0],\n",
    "        [2, 0, 2, 8],\n",
    "    ]\n",
    "])\n",
    "\n",
    "print(a)"
   ],
   "metadata": {
    "collapsed": false
   }
  },
  {
   "cell_type": "markdown",
   "source": [
    "swap rows and columns of a given array in reverse order:"
   ],
   "metadata": {
    "collapsed": false
   }
  },
  {
   "cell_type": "code",
   "execution_count": 93,
   "outputs": [
    {
     "name": "stdout",
     "output_type": "stream",
     "text": [
      "[[[ 1  2  3  4]\n",
      "  [ 0  1  3  4]\n",
      "  [90 91 93 94]\n",
      "  [ 5  0  3  2]]]\n",
      "[[[ 5  0  3  2]\n",
      "  [90 91 93 94]\n",
      "  [ 0  1  3  4]\n",
      "  [ 1  2  3  4]]]\n"
     ]
    }
   ],
   "source": [
    "a = np.array([\n",
    "    [\n",
    "        [1, 2, 3, 4],\n",
    "        [0, 1, 3, 4],\n",
    "        [90, 91, 93, 94],\n",
    "        [5, 0, 3, 2]\n",
    "    ]\n",
    "])\n",
    "print(a)\n",
    "\n",
    "print(a[::-1, ::-1])"
   ],
   "metadata": {
    "collapsed": false
   }
  },
  {
   "cell_type": "markdown",
   "source": [
    "multiply two given arrays of same size elements-by-element:"
   ],
   "metadata": {
    "collapsed": false
   }
  },
  {
   "cell_type": "code",
   "execution_count": 94,
   "outputs": [
    {
     "name": "stdout",
     "output_type": "stream",
     "text": [
      "[[1 2 3]\n",
      " [9 8 7]]\n",
      "[[4 6 2]\n",
      " [3 5 3]]\n",
      "[[ 4 12  6]\n",
      " [27 40 21]]\n",
      "[[ 4 12  6]\n",
      " [27 40 21]]\n"
     ]
    }
   ],
   "source": [
    "x = np.array([\n",
    "    [1, 2, 3],\n",
    "    [9, 8, 7],\n",
    "])\n",
    "y = np.array([\n",
    "    [4, 6, 2],\n",
    "    [3, 5, 3],\n",
    "])\n",
    "print(x)\n",
    "print(y)\n",
    "\n",
    "print(np.multiply(x, y))\n",
    "print(x * y)"
   ],
   "metadata": {
    "collapsed": false
   }
  },
  {
   "cell_type": "code",
   "execution_count": null,
   "outputs": [],
   "source": [],
   "metadata": {
    "collapsed": false
   }
  }
 ],
 "metadata": {
  "kernelspec": {
   "display_name": "Python 3",
   "language": "python",
   "name": "python3"
  },
  "language_info": {
   "codemirror_mode": {
    "name": "ipython",
    "version": 2
   },
   "file_extension": ".py",
   "mimetype": "text/x-python",
   "name": "python",
   "nbconvert_exporter": "python",
   "pygments_lexer": "ipython2",
   "version": "2.7.6"
  }
 },
 "nbformat": 4,
 "nbformat_minor": 0
}
